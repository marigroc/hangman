{
  "cells": [
    {
      "cell_type": "markdown",
      "metadata": {
        "id": "7gFmflKxQI46"
      },
      "source": [
        "# Psycopg2 and SQLAlchemy"
      ]
    },
    {
      "cell_type": "markdown",
      "metadata": {
        "id": "kOKXH191QI47"
      },
      "source": [
        "We have seen how to make queries using pgAdmin4. We can go to the same platform and export the output of out query into a CSV:\n",
        "\n",
        "![](https://github.com/AI-Core/Content-Public/blob/main/Content/units/Data-Handling/3.%20SQL/17.%20psycopg2%20and%20SQLAlchemy/images/pgadmin_exportCSV.png?raw=1)"
      ]
    },
    {
      "cell_type": "markdown",
      "metadata": {
        "id": "KrQ67oP6QI47"
      },
      "source": [
        "But this defeats the purpose of making everything simple and automated... We would need to 1) make the query, 2) export it into a .csv, 3) save it into our directory, 4) opening it in Python using the csv library Pandas. These steps are manually performed, isn't there a way to create a pipeline?"
      ]
    },
    {
      "cell_type": "markdown",
      "metadata": {
        "id": "ta8hBuYYQI48"
      },
      "source": [
        "## Pyscopg2"
      ]
    },
    {
      "cell_type": "markdown",
      "metadata": {
        "id": "EjPVJbAqQI48"
      },
      "source": [
        "_'Psycopg is the most popular PostgreSQL adapter for the Python programming language. Its core is a complete implementation of the Python DB API 2.0 specifications. Several extensions allow access to many of the features offered by PostgreSQL.'_ Psycopg documentation\n",
        "\n",
        "Psycopg is a fairly simple to use DBAPI (Database API), you just need to check your server details and the database you want to connect to:\n",
        "\n",
        "![](https://github.com/AI-Core/Content-Public/blob/main/Content/units/Data-Handling/3.%20SQL/17.%20psycopg2%20and%20SQLAlchemy/images/psycopg2.png?raw=1)"
      ]
    },
    {
      "cell_type": "markdown",
      "metadata": {
        "id": "03KGash-QI48"
      },
      "source": [
        "There are basically 2 objects we need to use to connect to our SQL server: connect and cursor.\n",
        "\n",
        "- The `connect` object will establish the connection to our database\n",
        "- The `cursor` object will point to the database, so we can start sending queries to it\n",
        "\n",
        "Apart from that, we will use some methods from `cursor`:\n",
        "\n",
        "- `execute` contains the query that we want to perform in a string format\n",
        "- `fetchall` retrieves the output of the query (use it if you are reading (`SELECT`) entries in your database)"
      ]
    },
    {
      "cell_type": "code",
      "execution_count": 1,
      "metadata": {
        "id": "yXOdg5pXQI48",
        "outputId": "4a01993f-f904-4a95-d4ed-f26f36d27383",
        "colab": {
          "base_uri": "https://localhost:8080/",
          "height": 140
        }
      },
      "outputs": [
        {
          "output_type": "error",
          "ename": "SyntaxError",
          "evalue": "ignored",
          "traceback": [
            "\u001b[0;36m  File \u001b[0;32m\"<ipython-input-1-ff4ec25c56cc>\"\u001b[0;36m, line \u001b[0;32m4\u001b[0m\n\u001b[0;31m    PASSWORD = #'password'\u001b[0m\n\u001b[0m               ^\u001b[0m\n\u001b[0;31mSyntaxError\u001b[0m\u001b[0;31m:\u001b[0m invalid syntax\n"
          ]
        }
      ],
      "source": [
        "import psycopg2\n",
        "HOST = 'localhost'\n",
        "USER = 'postgres'\n",
        "PASSWORD = #'password'\n",
        "DATABASE = 'pagila'\n",
        "PORT = 5432\n",
        "\n",
        "with psycopg2.connect(host=HOST, user=USER, password=PASSWORD, dbname=DATABASE, port=PORT) as conn:\n",
        "    with conn.cursor() as cur:\n",
        "        cur.execute('''CREATE TABLE actor_2 AS (\n",
        "                    SELECT * FROM actor\n",
        "                    LIMIT 10);\n",
        "\n",
        "                    SELECT * FROM actor_2''')\n",
        "        print(type(cur))\n",
        "        records = cur.fetchall()"
      ]
    },
    {
      "cell_type": "markdown",
      "metadata": {
        "id": "PY3xLlZpQI49"
      },
      "source": [
        "In case you don't know the tables inside your database, you can run the following query:\n",
        "`SELECT table_name FROM information_schema.tables WHERE table_schema = 'public'`"
      ]
    },
    {
      "cell_type": "code",
      "execution_count": null,
      "metadata": {
        "id": "UqKyPJYzQI4-",
        "outputId": "95df47ea-96ea-4838-ddb7-ddea4eadd8c7"
      },
      "outputs": [
        {
          "name": "stdout",
          "output_type": "stream",
          "text": [
            "('actor',)\n",
            "('actor_info',)\n",
            "('customer_list',)\n",
            "('film_list',)\n",
            "('nicer_but_slower_film_list',)\n",
            "('film',)\n",
            "('payment_p2007_02',)\n",
            "('payment_p2007_03',)\n",
            "('payment_p2007_04',)\n",
            "('payment_p2007_05',)\n",
            "('payment_p2007_06',)\n",
            "('sales_by_film_category',)\n",
            "('payment_p2007_01',)\n",
            "('address',)\n",
            "('category',)\n",
            "('city',)\n",
            "('country',)\n",
            "('customer',)\n",
            "('film_actor',)\n",
            "('film_category',)\n",
            "('inventory',)\n",
            "('language',)\n",
            "('rental',)\n",
            "('staff',)\n",
            "('sales_by_store',)\n",
            "('staff_list',)\n",
            "('store',)\n",
            "('payment',)\n",
            "('employee_details',)\n",
            "('actor_2',)\n"
          ]
        }
      ],
      "source": [
        "import psycopg2\n",
        "with psycopg2.connect(host='localhost', user='postgres', password='password', dbname='pagila', port=5432) as conn:\n",
        "    with conn.cursor() as cur:\n",
        "        cur.execute(\"\"\"SELECT table_name FROM information_schema.tables\n",
        "       WHERE table_schema = 'public'\"\"\")\n",
        "        for table in cur.fetchall():\n",
        "            print(table)"
      ]
    },
    {
      "cell_type": "markdown",
      "metadata": {
        "id": "hpWBws-tQI4-"
      },
      "source": [
        "Observe that when you select something, the fetchall method will return a list, which then we have to process into a pandas dataframe. Additionally, if we need to write a sql query such as INSERT INTO, we would need to figure out the correct loop for inserting the proper rows every time we need to insert new data.\n",
        "\n",
        "A very useful toolkit for this purpose is SQLAlchemy, which simplifies the code. Even though it simplifies the code enormously, SQLAlchemy has more benefits:\n",
        "\n",
        "1. It is an Object Relational Mapper (ORM), which maps representations of objects to database tables. In other words, this ORM will transform the python objects into SQL tables\n",
        "2. The second important advantage is the Engine object, which contains information about the type of database (PostgreSQL in this case) and a connection pool. This connection pool allows for multiple connections to the database that operate simultaneously. Additionally, this engine will only work whenever we send a query (Lazy Evaluation)"
      ]
    },
    {
      "cell_type": "markdown",
      "metadata": {
        "id": "z5P-9LWoQI4-"
      },
      "source": [
        "The syntax is as follows:"
      ]
    },
    {
      "cell_type": "markdown",
      "metadata": {
        "id": "m7jvUjScQI4-"
      },
      "source": [
        "```\n",
        "from sqlalchemy import create_engine\n",
        "\n",
        "engine = create_engine(\"{type of database}+{DBAPI}://{username}:{password}@{host}:{port}/{database_name}\")\n",
        "```"
      ]
    },
    {
      "cell_type": "code",
      "execution_count": 3,
      "metadata": {
        "id": "_2DizSzvQI4-"
      },
      "outputs": [],
      "source": [
        "from sqlalchemy import create_engine\n",
        "import pandas as pd\n",
        "DATABASE_TYPE = 'postgresql'\n",
        "DBAPI = 'psycopg2'\n",
        "HOST = 'localhost'\n",
        "USER = 'postgres'\n",
        "PASSWORD = 'password'\n",
        "DATABASE = 'pagila'\n",
        "PORT = 5432\n",
        "engine = create_engine(f\"{DATABASE_TYPE}+{DBAPI}://{USER}:{PASSWORD}@{HOST}:{PORT}/{DATABASE}\")"
      ]
    },
    {
      "cell_type": "markdown",
      "metadata": {
        "id": "KlLroC4SQI4-"
      },
      "source": [
        "If everything went alright, the next cell should return no error:"
      ]
    },
    {
      "cell_type": "code",
      "execution_count": null,
      "metadata": {
        "id": "bZTCCOLmQI4_"
      },
      "outputs": [],
      "source": [
        "engine.execution_options(isolation_level='AUTOCOMMIT').connect()"
      ]
    },
    {
      "cell_type": "markdown",
      "metadata": {
        "id": "7uzPISsJQI4_"
      },
      "source": [
        "Calling the `.connect()` method creates an active connection. The `execution_options(isolation_level='AUTOCOMMIT')` is there to default to committing any changes to the database automatically. Alternatively you can just run:"
      ]
    },
    {
      "cell_type": "code",
      "execution_count": null,
      "metadata": {
        "id": "JYgGaHGcQI4_"
      },
      "outputs": [],
      "source": [
        "engine.connect()"
      ]
    },
    {
      "cell_type": "markdown",
      "metadata": {
        "id": "JeJWkAuCQI4_"
      },
      "source": [
        "And then after every transaction you will need to call `engine.commit()`"
      ]
    },
    {
      "cell_type": "markdown",
      "metadata": {
        "id": "GRXVodY5QI4_"
      },
      "source": [
        "You can also use other methods in the sqlalchemy to inspect the database. In this case, we will use the `inspect` function. This function returns an `Inspector` object, which is a wrapper around the database, and it allows us to retrieve information about the tables and columns inside the database."
      ]
    },
    {
      "cell_type": "code",
      "execution_count": null,
      "metadata": {
        "id": "wK6RmpIvQI4_"
      },
      "outputs": [],
      "source": [
        "from sqlalchemy import inspect\n",
        "inspector = inspect(engine)\n",
        "inspector.get_table_names()"
      ]
    },
    {
      "cell_type": "code",
      "execution_count": null,
      "metadata": {
        "id": "ARG1BH6qQI4_",
        "outputId": "5343560a-7485-43fb-dcba-e5d7f9ada489"
      },
      "outputs": [
        {
          "data": {
            "text/plain": [
              "[(1, 'PENELOPE', 'GUINESS', datetime.datetime(2006, 2, 15, 9, 34, 33)),\n",
              " (2, 'NICK', 'WAHLBERG', datetime.datetime(2006, 2, 15, 9, 34, 33)),\n",
              " (3, 'ED', 'CHASE', datetime.datetime(2006, 2, 15, 9, 34, 33)),\n",
              " (4, 'JENNIFER', 'DAVIS', datetime.datetime(2006, 2, 15, 9, 34, 33)),\n",
              " (5, 'JOHNNY', 'LOLLOBRIGIDA', datetime.datetime(2006, 2, 15, 9, 34, 33)),\n",
              " (6, 'BETTE', 'NICHOLSON', datetime.datetime(2006, 2, 15, 9, 34, 33)),\n",
              " (7, 'GRACE', 'MOSTEL', datetime.datetime(2006, 2, 15, 9, 34, 33)),\n",
              " (8, 'MATTHEW', 'JOHANSSON', datetime.datetime(2006, 2, 15, 9, 34, 33)),\n",
              " (9, 'JOE', 'SWANK', datetime.datetime(2006, 2, 15, 9, 34, 33)),\n",
              " (10, 'CHRISTIAN', 'GABLE', datetime.datetime(2006, 2, 15, 9, 34, 33)),\n",
              " (11, 'ZERO', 'CAGE', datetime.datetime(2006, 2, 15, 9, 34, 33)),\n",
              " (12, 'KARL', 'BERRY', datetime.datetime(2006, 2, 15, 9, 34, 33)),\n",
              " (13, 'UMA', 'WOOD', datetime.datetime(2006, 2, 15, 9, 34, 33)),\n",
              " (14, 'VIVIEN', 'BERGEN', datetime.datetime(2006, 2, 15, 9, 34, 33)),\n",
              " (15, 'CUBA', 'OLIVIER', datetime.datetime(2006, 2, 15, 9, 34, 33)),\n",
              " (16, 'FRED', 'COSTNER', datetime.datetime(2006, 2, 15, 9, 34, 33)),\n",
              " (17, 'HELEN', 'VOIGHT', datetime.datetime(2006, 2, 15, 9, 34, 33)),\n",
              " (18, 'DAN', 'TORN', datetime.datetime(2006, 2, 15, 9, 34, 33)),\n",
              " (19, 'BOB', 'FAWCETT', datetime.datetime(2006, 2, 15, 9, 34, 33)),\n",
              " (20, 'LUCILLE', 'TRACY', datetime.datetime(2006, 2, 15, 9, 34, 33)),\n",
              " (21, 'KIRSTEN', 'PALTROW', datetime.datetime(2006, 2, 15, 9, 34, 33)),\n",
              " (22, 'ELVIS', 'MARX', datetime.datetime(2006, 2, 15, 9, 34, 33)),\n",
              " (23, 'SANDRA', 'KILMER', datetime.datetime(2006, 2, 15, 9, 34, 33)),\n",
              " (24, 'CAMERON', 'STREEP', datetime.datetime(2006, 2, 15, 9, 34, 33)),\n",
              " (25, 'KEVIN', 'BLOOM', datetime.datetime(2006, 2, 15, 9, 34, 33)),\n",
              " (26, 'RIP', 'CRAWFORD', datetime.datetime(2006, 2, 15, 9, 34, 33)),\n",
              " (27, 'JULIA', 'MCQUEEN', datetime.datetime(2006, 2, 15, 9, 34, 33)),\n",
              " (28, 'WOODY', 'HOFFMAN', datetime.datetime(2006, 2, 15, 9, 34, 33)),\n",
              " (29, 'ALEC', 'WAYNE', datetime.datetime(2006, 2, 15, 9, 34, 33)),\n",
              " (30, 'SANDRA', 'PECK', datetime.datetime(2006, 2, 15, 9, 34, 33)),\n",
              " (31, 'SISSY', 'SOBIESKI', datetime.datetime(2006, 2, 15, 9, 34, 33)),\n",
              " (32, 'TIM', 'HACKMAN', datetime.datetime(2006, 2, 15, 9, 34, 33)),\n",
              " (33, 'MILLA', 'PECK', datetime.datetime(2006, 2, 15, 9, 34, 33)),\n",
              " (34, 'AUDREY', 'OLIVIER', datetime.datetime(2006, 2, 15, 9, 34, 33)),\n",
              " (35, 'JUDY', 'DEAN', datetime.datetime(2006, 2, 15, 9, 34, 33)),\n",
              " (36, 'BURT', 'DUKAKIS', datetime.datetime(2006, 2, 15, 9, 34, 33)),\n",
              " (37, 'VAL', 'BOLGER', datetime.datetime(2006, 2, 15, 9, 34, 33)),\n",
              " (38, 'TOM', 'MCKELLEN', datetime.datetime(2006, 2, 15, 9, 34, 33)),\n",
              " (39, 'GOLDIE', 'BRODY', datetime.datetime(2006, 2, 15, 9, 34, 33)),\n",
              " (40, 'JOHNNY', 'CAGE', datetime.datetime(2006, 2, 15, 9, 34, 33)),\n",
              " (41, 'JODIE', 'DEGENERES', datetime.datetime(2006, 2, 15, 9, 34, 33)),\n",
              " (42, 'TOM', 'MIRANDA', datetime.datetime(2006, 2, 15, 9, 34, 33)),\n",
              " (43, 'KIRK', 'JOVOVICH', datetime.datetime(2006, 2, 15, 9, 34, 33)),\n",
              " (44, 'NICK', 'STALLONE', datetime.datetime(2006, 2, 15, 9, 34, 33)),\n",
              " (45, 'REESE', 'KILMER', datetime.datetime(2006, 2, 15, 9, 34, 33)),\n",
              " (46, 'PARKER', 'GOLDBERG', datetime.datetime(2006, 2, 15, 9, 34, 33)),\n",
              " (47, 'JULIA', 'BARRYMORE', datetime.datetime(2006, 2, 15, 9, 34, 33)),\n",
              " (48, 'FRANCES', 'DAY-LEWIS', datetime.datetime(2006, 2, 15, 9, 34, 33)),\n",
              " (49, 'ANNE', 'CRONYN', datetime.datetime(2006, 2, 15, 9, 34, 33)),\n",
              " (50, 'NATALIE', 'HOPKINS', datetime.datetime(2006, 2, 15, 9, 34, 33)),\n",
              " (51, 'GARY', 'PHOENIX', datetime.datetime(2006, 2, 15, 9, 34, 33)),\n",
              " (52, 'CARMEN', 'HUNT', datetime.datetime(2006, 2, 15, 9, 34, 33)),\n",
              " (53, 'MENA', 'TEMPLE', datetime.datetime(2006, 2, 15, 9, 34, 33)),\n",
              " (54, 'PENELOPE', 'PINKETT', datetime.datetime(2006, 2, 15, 9, 34, 33)),\n",
              " (55, 'FAY', 'KILMER', datetime.datetime(2006, 2, 15, 9, 34, 33)),\n",
              " (56, 'DAN', 'HARRIS', datetime.datetime(2006, 2, 15, 9, 34, 33)),\n",
              " (57, 'JUDE', 'CRUISE', datetime.datetime(2006, 2, 15, 9, 34, 33)),\n",
              " (58, 'CHRISTIAN', 'AKROYD', datetime.datetime(2006, 2, 15, 9, 34, 33)),\n",
              " (59, 'DUSTIN', 'TAUTOU', datetime.datetime(2006, 2, 15, 9, 34, 33)),\n",
              " (60, 'HENRY', 'BERRY', datetime.datetime(2006, 2, 15, 9, 34, 33)),\n",
              " (61, 'CHRISTIAN', 'NEESON', datetime.datetime(2006, 2, 15, 9, 34, 33)),\n",
              " (62, 'JAYNE', 'NEESON', datetime.datetime(2006, 2, 15, 9, 34, 33)),\n",
              " (63, 'CAMERON', 'WRAY', datetime.datetime(2006, 2, 15, 9, 34, 33)),\n",
              " (64, 'RAY', 'JOHANSSON', datetime.datetime(2006, 2, 15, 9, 34, 33)),\n",
              " (65, 'ANGELA', 'HUDSON', datetime.datetime(2006, 2, 15, 9, 34, 33)),\n",
              " (66, 'MARY', 'TANDY', datetime.datetime(2006, 2, 15, 9, 34, 33)),\n",
              " (67, 'JESSICA', 'BAILEY', datetime.datetime(2006, 2, 15, 9, 34, 33)),\n",
              " (68, 'RIP', 'WINSLET', datetime.datetime(2006, 2, 15, 9, 34, 33)),\n",
              " (69, 'KENNETH', 'PALTROW', datetime.datetime(2006, 2, 15, 9, 34, 33)),\n",
              " (70, 'MICHELLE', 'MCCONAUGHEY', datetime.datetime(2006, 2, 15, 9, 34, 33)),\n",
              " (71, 'ADAM', 'GRANT', datetime.datetime(2006, 2, 15, 9, 34, 33)),\n",
              " (72, 'SEAN', 'WILLIAMS', datetime.datetime(2006, 2, 15, 9, 34, 33)),\n",
              " (73, 'GARY', 'PENN', datetime.datetime(2006, 2, 15, 9, 34, 33)),\n",
              " (74, 'MILLA', 'KEITEL', datetime.datetime(2006, 2, 15, 9, 34, 33)),\n",
              " (75, 'BURT', 'POSEY', datetime.datetime(2006, 2, 15, 9, 34, 33)),\n",
              " (76, 'ANGELINA', 'ASTAIRE', datetime.datetime(2006, 2, 15, 9, 34, 33)),\n",
              " (77, 'CARY', 'MCCONAUGHEY', datetime.datetime(2006, 2, 15, 9, 34, 33)),\n",
              " (78, 'GROUCHO', 'SINATRA', datetime.datetime(2006, 2, 15, 9, 34, 33)),\n",
              " (79, 'MAE', 'HOFFMAN', datetime.datetime(2006, 2, 15, 9, 34, 33)),\n",
              " (80, 'RALPH', 'CRUZ', datetime.datetime(2006, 2, 15, 9, 34, 33)),\n",
              " (81, 'SCARLETT', 'DAMON', datetime.datetime(2006, 2, 15, 9, 34, 33)),\n",
              " (82, 'WOODY', 'JOLIE', datetime.datetime(2006, 2, 15, 9, 34, 33)),\n",
              " (83, 'BEN', 'WILLIS', datetime.datetime(2006, 2, 15, 9, 34, 33)),\n",
              " (84, 'JAMES', 'PITT', datetime.datetime(2006, 2, 15, 9, 34, 33)),\n",
              " (85, 'MINNIE', 'ZELLWEGER', datetime.datetime(2006, 2, 15, 9, 34, 33)),\n",
              " (86, 'GREG', 'CHAPLIN', datetime.datetime(2006, 2, 15, 9, 34, 33)),\n",
              " (87, 'SPENCER', 'PECK', datetime.datetime(2006, 2, 15, 9, 34, 33)),\n",
              " (88, 'KENNETH', 'PESCI', datetime.datetime(2006, 2, 15, 9, 34, 33)),\n",
              " (89, 'CHARLIZE', 'DENCH', datetime.datetime(2006, 2, 15, 9, 34, 33)),\n",
              " (90, 'SEAN', 'GUINESS', datetime.datetime(2006, 2, 15, 9, 34, 33)),\n",
              " (91, 'CHRISTOPHER', 'BERRY', datetime.datetime(2006, 2, 15, 9, 34, 33)),\n",
              " (92, 'KIRSTEN', 'AKROYD', datetime.datetime(2006, 2, 15, 9, 34, 33)),\n",
              " (93, 'ELLEN', 'PRESLEY', datetime.datetime(2006, 2, 15, 9, 34, 33)),\n",
              " (94, 'KENNETH', 'TORN', datetime.datetime(2006, 2, 15, 9, 34, 33)),\n",
              " (95, 'DARYL', 'WAHLBERG', datetime.datetime(2006, 2, 15, 9, 34, 33)),\n",
              " (96, 'GENE', 'WILLIS', datetime.datetime(2006, 2, 15, 9, 34, 33)),\n",
              " (97, 'MEG', 'HAWKE', datetime.datetime(2006, 2, 15, 9, 34, 33)),\n",
              " (98, 'CHRIS', 'BRIDGES', datetime.datetime(2006, 2, 15, 9, 34, 33)),\n",
              " (99, 'JIM', 'MOSTEL', datetime.datetime(2006, 2, 15, 9, 34, 33)),\n",
              " (100, 'SPENCER', 'DEPP', datetime.datetime(2006, 2, 15, 9, 34, 33)),\n",
              " (101, 'SUSAN', 'DAVIS', datetime.datetime(2006, 2, 15, 9, 34, 33)),\n",
              " (102, 'WALTER', 'TORN', datetime.datetime(2006, 2, 15, 9, 34, 33)),\n",
              " (103, 'MATTHEW', 'LEIGH', datetime.datetime(2006, 2, 15, 9, 34, 33)),\n",
              " (104, 'PENELOPE', 'CRONYN', datetime.datetime(2006, 2, 15, 9, 34, 33)),\n",
              " (105, 'SIDNEY', 'CROWE', datetime.datetime(2006, 2, 15, 9, 34, 33)),\n",
              " (106, 'GROUCHO', 'DUNST', datetime.datetime(2006, 2, 15, 9, 34, 33)),\n",
              " (107, 'GINA', 'DEGENERES', datetime.datetime(2006, 2, 15, 9, 34, 33)),\n",
              " (108, 'WARREN', 'NOLTE', datetime.datetime(2006, 2, 15, 9, 34, 33)),\n",
              " (109, 'SYLVESTER', 'DERN', datetime.datetime(2006, 2, 15, 9, 34, 33)),\n",
              " (110, 'SUSAN', 'DAVIS', datetime.datetime(2006, 2, 15, 9, 34, 33)),\n",
              " (111, 'CAMERON', 'ZELLWEGER', datetime.datetime(2006, 2, 15, 9, 34, 33)),\n",
              " (112, 'RUSSELL', 'BACALL', datetime.datetime(2006, 2, 15, 9, 34, 33)),\n",
              " (113, 'MORGAN', 'HOPKINS', datetime.datetime(2006, 2, 15, 9, 34, 33)),\n",
              " (114, 'MORGAN', 'MCDORMAND', datetime.datetime(2006, 2, 15, 9, 34, 33)),\n",
              " (115, 'HARRISON', 'BALE', datetime.datetime(2006, 2, 15, 9, 34, 33)),\n",
              " (116, 'DAN', 'STREEP', datetime.datetime(2006, 2, 15, 9, 34, 33)),\n",
              " (117, 'RENEE', 'TRACY', datetime.datetime(2006, 2, 15, 9, 34, 33)),\n",
              " (118, 'CUBA', 'ALLEN', datetime.datetime(2006, 2, 15, 9, 34, 33)),\n",
              " (119, 'WARREN', 'JACKMAN', datetime.datetime(2006, 2, 15, 9, 34, 33)),\n",
              " (120, 'PENELOPE', 'MONROE', datetime.datetime(2006, 2, 15, 9, 34, 33)),\n",
              " (121, 'LIZA', 'BERGMAN', datetime.datetime(2006, 2, 15, 9, 34, 33)),\n",
              " (122, 'SALMA', 'NOLTE', datetime.datetime(2006, 2, 15, 9, 34, 33)),\n",
              " (123, 'JULIANNE', 'DENCH', datetime.datetime(2006, 2, 15, 9, 34, 33)),\n",
              " (124, 'SCARLETT', 'BENING', datetime.datetime(2006, 2, 15, 9, 34, 33)),\n",
              " (125, 'ALBERT', 'NOLTE', datetime.datetime(2006, 2, 15, 9, 34, 33)),\n",
              " (126, 'FRANCES', 'TOMEI', datetime.datetime(2006, 2, 15, 9, 34, 33)),\n",
              " (127, 'KEVIN', 'GARLAND', datetime.datetime(2006, 2, 15, 9, 34, 33)),\n",
              " (128, 'CATE', 'MCQUEEN', datetime.datetime(2006, 2, 15, 9, 34, 33)),\n",
              " (129, 'DARYL', 'CRAWFORD', datetime.datetime(2006, 2, 15, 9, 34, 33)),\n",
              " (130, 'GRETA', 'KEITEL', datetime.datetime(2006, 2, 15, 9, 34, 33)),\n",
              " (131, 'JANE', 'JACKMAN', datetime.datetime(2006, 2, 15, 9, 34, 33)),\n",
              " (132, 'ADAM', 'HOPPER', datetime.datetime(2006, 2, 15, 9, 34, 33)),\n",
              " (133, 'RICHARD', 'PENN', datetime.datetime(2006, 2, 15, 9, 34, 33)),\n",
              " (134, 'GENE', 'HOPKINS', datetime.datetime(2006, 2, 15, 9, 34, 33)),\n",
              " (135, 'RITA', 'REYNOLDS', datetime.datetime(2006, 2, 15, 9, 34, 33)),\n",
              " (136, 'ED', 'MANSFIELD', datetime.datetime(2006, 2, 15, 9, 34, 33)),\n",
              " (137, 'MORGAN', 'WILLIAMS', datetime.datetime(2006, 2, 15, 9, 34, 33)),\n",
              " (138, 'LUCILLE', 'DEE', datetime.datetime(2006, 2, 15, 9, 34, 33)),\n",
              " (139, 'EWAN', 'GOODING', datetime.datetime(2006, 2, 15, 9, 34, 33)),\n",
              " (140, 'WHOOPI', 'HURT', datetime.datetime(2006, 2, 15, 9, 34, 33)),\n",
              " (141, 'CATE', 'HARRIS', datetime.datetime(2006, 2, 15, 9, 34, 33)),\n",
              " (142, 'JADA', 'RYDER', datetime.datetime(2006, 2, 15, 9, 34, 33)),\n",
              " (143, 'RIVER', 'DEAN', datetime.datetime(2006, 2, 15, 9, 34, 33)),\n",
              " (144, 'ANGELA', 'WITHERSPOON', datetime.datetime(2006, 2, 15, 9, 34, 33)),\n",
              " (145, 'KIM', 'ALLEN', datetime.datetime(2006, 2, 15, 9, 34, 33)),\n",
              " (146, 'ALBERT', 'JOHANSSON', datetime.datetime(2006, 2, 15, 9, 34, 33)),\n",
              " (147, 'FAY', 'WINSLET', datetime.datetime(2006, 2, 15, 9, 34, 33)),\n",
              " (148, 'EMILY', 'DEE', datetime.datetime(2006, 2, 15, 9, 34, 33)),\n",
              " (149, 'RUSSELL', 'TEMPLE', datetime.datetime(2006, 2, 15, 9, 34, 33)),\n",
              " (150, 'JAYNE', 'NOLTE', datetime.datetime(2006, 2, 15, 9, 34, 33)),\n",
              " (151, 'GEOFFREY', 'HESTON', datetime.datetime(2006, 2, 15, 9, 34, 33)),\n",
              " (152, 'BEN', 'HARRIS', datetime.datetime(2006, 2, 15, 9, 34, 33)),\n",
              " (153, 'MINNIE', 'KILMER', datetime.datetime(2006, 2, 15, 9, 34, 33)),\n",
              " (154, 'MERYL', 'GIBSON', datetime.datetime(2006, 2, 15, 9, 34, 33)),\n",
              " (155, 'IAN', 'TANDY', datetime.datetime(2006, 2, 15, 9, 34, 33)),\n",
              " (156, 'FAY', 'WOOD', datetime.datetime(2006, 2, 15, 9, 34, 33)),\n",
              " (157, 'GRETA', 'MALDEN', datetime.datetime(2006, 2, 15, 9, 34, 33)),\n",
              " (158, 'VIVIEN', 'BASINGER', datetime.datetime(2006, 2, 15, 9, 34, 33)),\n",
              " (159, 'LAURA', 'BRODY', datetime.datetime(2006, 2, 15, 9, 34, 33)),\n",
              " (160, 'CHRIS', 'DEPP', datetime.datetime(2006, 2, 15, 9, 34, 33)),\n",
              " (161, 'HARVEY', 'HOPE', datetime.datetime(2006, 2, 15, 9, 34, 33)),\n",
              " (162, 'OPRAH', 'KILMER', datetime.datetime(2006, 2, 15, 9, 34, 33)),\n",
              " (163, 'CHRISTOPHER', 'WEST', datetime.datetime(2006, 2, 15, 9, 34, 33)),\n",
              " (164, 'HUMPHREY', 'WILLIS', datetime.datetime(2006, 2, 15, 9, 34, 33)),\n",
              " (165, 'AL', 'GARLAND', datetime.datetime(2006, 2, 15, 9, 34, 33)),\n",
              " (166, 'NICK', 'DEGENERES', datetime.datetime(2006, 2, 15, 9, 34, 33)),\n",
              " (167, 'LAURENCE', 'BULLOCK', datetime.datetime(2006, 2, 15, 9, 34, 33)),\n",
              " (168, 'WILL', 'WILSON', datetime.datetime(2006, 2, 15, 9, 34, 33)),\n",
              " (169, 'KENNETH', 'HOFFMAN', datetime.datetime(2006, 2, 15, 9, 34, 33)),\n",
              " (170, 'MENA', 'HOPPER', datetime.datetime(2006, 2, 15, 9, 34, 33)),\n",
              " (171, 'OLYMPIA', 'PFEIFFER', datetime.datetime(2006, 2, 15, 9, 34, 33)),\n",
              " (172, 'GROUCHO', 'WILLIAMS', datetime.datetime(2006, 2, 15, 9, 34, 33)),\n",
              " (173, 'ALAN', 'DREYFUSS', datetime.datetime(2006, 2, 15, 9, 34, 33)),\n",
              " (174, 'MICHAEL', 'BENING', datetime.datetime(2006, 2, 15, 9, 34, 33)),\n",
              " (175, 'WILLIAM', 'HACKMAN', datetime.datetime(2006, 2, 15, 9, 34, 33)),\n",
              " (176, 'JON', 'CHASE', datetime.datetime(2006, 2, 15, 9, 34, 33)),\n",
              " (177, 'GENE', 'MCKELLEN', datetime.datetime(2006, 2, 15, 9, 34, 33)),\n",
              " (178, 'LISA', 'MONROE', datetime.datetime(2006, 2, 15, 9, 34, 33)),\n",
              " (179, 'ED', 'GUINESS', datetime.datetime(2006, 2, 15, 9, 34, 33)),\n",
              " (180, 'JEFF', 'SILVERSTONE', datetime.datetime(2006, 2, 15, 9, 34, 33)),\n",
              " (181, 'MATTHEW', 'CARREY', datetime.datetime(2006, 2, 15, 9, 34, 33)),\n",
              " (182, 'DEBBIE', 'AKROYD', datetime.datetime(2006, 2, 15, 9, 34, 33)),\n",
              " (183, 'RUSSELL', 'CLOSE', datetime.datetime(2006, 2, 15, 9, 34, 33)),\n",
              " (184, 'HUMPHREY', 'GARLAND', datetime.datetime(2006, 2, 15, 9, 34, 33)),\n",
              " (185, 'MICHAEL', 'BOLGER', datetime.datetime(2006, 2, 15, 9, 34, 33)),\n",
              " (186, 'JULIA', 'ZELLWEGER', datetime.datetime(2006, 2, 15, 9, 34, 33)),\n",
              " (187, 'RENEE', 'BALL', datetime.datetime(2006, 2, 15, 9, 34, 33)),\n",
              " (188, 'ROCK', 'DUKAKIS', datetime.datetime(2006, 2, 15, 9, 34, 33)),\n",
              " (189, 'CUBA', 'BIRCH', datetime.datetime(2006, 2, 15, 9, 34, 33)),\n",
              " (190, 'AUDREY', 'BAILEY', datetime.datetime(2006, 2, 15, 9, 34, 33)),\n",
              " (191, 'GREGORY', 'GOODING', datetime.datetime(2006, 2, 15, 9, 34, 33)),\n",
              " (192, 'JOHN', 'SUVARI', datetime.datetime(2006, 2, 15, 9, 34, 33)),\n",
              " (193, 'BURT', 'TEMPLE', datetime.datetime(2006, 2, 15, 9, 34, 33)),\n",
              " (194, 'MERYL', 'ALLEN', datetime.datetime(2006, 2, 15, 9, 34, 33)),\n",
              " (195, 'JAYNE', 'SILVERSTONE', datetime.datetime(2006, 2, 15, 9, 34, 33)),\n",
              " (196, 'BELA', 'WALKEN', datetime.datetime(2006, 2, 15, 9, 34, 33)),\n",
              " (197, 'REESE', 'WEST', datetime.datetime(2006, 2, 15, 9, 34, 33)),\n",
              " (198, 'MARY', 'KEITEL', datetime.datetime(2006, 2, 15, 9, 34, 33)),\n",
              " (199, 'JULIA', 'FAWCETT', datetime.datetime(2006, 2, 15, 9, 34, 33)),\n",
              " (200, 'THORA', 'TEMPLE', datetime.datetime(2006, 2, 15, 9, 34, 33))]"
            ]
          },
          "execution_count": 6,
          "metadata": {},
          "output_type": "execute_result"
        }
      ],
      "source": [
        "from sqlachemy import text\n",
        "with engine.connect() as connection:\n",
        "    result = connection.execute(text(\"SELECT * FROM actor\"))\n",
        "    for row in result:\n",
        "        print(row)"
      ]
    },
    {
      "cell_type": "markdown",
      "metadata": {
        "id": "wKWXgzExQI4_"
      },
      "source": [
        "In order to avoid leaving connections open for longer than necessary, it is good practice to call `engine.close()` after you have executed your queries. For tidier code, connection management can be achieved using a context manager as follows:\n",
        "\n",
        "```python\n",
        "with engine.execution_options(isolation_level='AUTOCOMMIT').connect() as conn:\n",
        "    # YOUR QUERIES HERE\n",
        "```\n",
        "\n",
        "After the code block inside the `with` statement has executed, the connection will close and any associated resources released."
      ]
    },
    {
      "cell_type": "markdown",
      "metadata": {
        "id": "RAXugH11QI4_"
      },
      "source": [
        "## Making use of the ORM"
      ]
    },
    {
      "cell_type": "markdown",
      "metadata": {
        "id": "l9iU8kh3QI4_"
      },
      "source": [
        "As mentioned, thanks to the ORM in SQLAlchemy, we can create a table in our database and insert data into it in a simple way."
      ]
    },
    {
      "cell_type": "markdown",
      "metadata": {
        "id": "WxUFJsT0QI4_"
      },
      "source": [
        "One way to do so is by using pandas. You can read a specific table from the database using pandas and the engine you just created"
      ]
    },
    {
      "cell_type": "code",
      "execution_count": 4,
      "metadata": {
        "id": "a9aYXzuVQI4_",
        "outputId": "9f79a68a-ca27-447d-d5c4-9f70c819ac2b",
        "colab": {
          "base_uri": "https://localhost:8080/",
          "height": 589
        }
      },
      "outputs": [
        {
          "output_type": "error",
          "ename": "OperationalError",
          "evalue": "ignored",
          "traceback": [
            "\u001b[0;31m---------------------------------------------------------------------------\u001b[0m",
            "\u001b[0;31mOperationalError\u001b[0m                          Traceback (most recent call last)",
            "\u001b[0;32m/usr/local/lib/python3.10/dist-packages/sqlalchemy/engine/base.py\u001b[0m in \u001b[0;36m__init__\u001b[0;34m(self, engine, connection, _has_events, _allow_revalidate, _allow_autobegin)\u001b[0m\n\u001b[1;32m    144\u001b[0m             \u001b[0;32mtry\u001b[0m\u001b[0;34m:\u001b[0m\u001b[0;34m\u001b[0m\u001b[0;34m\u001b[0m\u001b[0m\n\u001b[0;32m--> 145\u001b[0;31m                 \u001b[0mself\u001b[0m\u001b[0;34m.\u001b[0m\u001b[0m_dbapi_connection\u001b[0m \u001b[0;34m=\u001b[0m \u001b[0mengine\u001b[0m\u001b[0;34m.\u001b[0m\u001b[0mraw_connection\u001b[0m\u001b[0;34m(\u001b[0m\u001b[0;34m)\u001b[0m\u001b[0;34m\u001b[0m\u001b[0;34m\u001b[0m\u001b[0m\n\u001b[0m\u001b[1;32m    146\u001b[0m             \u001b[0;32mexcept\u001b[0m \u001b[0mdialect\u001b[0m\u001b[0;34m.\u001b[0m\u001b[0mloaded_dbapi\u001b[0m\u001b[0;34m.\u001b[0m\u001b[0mError\u001b[0m \u001b[0;32mas\u001b[0m \u001b[0merr\u001b[0m\u001b[0;34m:\u001b[0m\u001b[0;34m\u001b[0m\u001b[0;34m\u001b[0m\u001b[0m\n",
            "\u001b[0;32m/usr/local/lib/python3.10/dist-packages/sqlalchemy/engine/base.py\u001b[0m in \u001b[0;36mraw_connection\u001b[0;34m(self)\u001b[0m\n\u001b[1;32m   3291\u001b[0m         \"\"\"\n\u001b[0;32m-> 3292\u001b[0;31m         \u001b[0;32mreturn\u001b[0m \u001b[0mself\u001b[0m\u001b[0;34m.\u001b[0m\u001b[0mpool\u001b[0m\u001b[0;34m.\u001b[0m\u001b[0mconnect\u001b[0m\u001b[0;34m(\u001b[0m\u001b[0;34m)\u001b[0m\u001b[0;34m\u001b[0m\u001b[0;34m\u001b[0m\u001b[0m\n\u001b[0m\u001b[1;32m   3293\u001b[0m \u001b[0;34m\u001b[0m\u001b[0m\n",
            "\u001b[0;32m/usr/local/lib/python3.10/dist-packages/sqlalchemy/pool/base.py\u001b[0m in \u001b[0;36mconnect\u001b[0;34m(self)\u001b[0m\n\u001b[1;32m    451\u001b[0m         \"\"\"\n\u001b[0;32m--> 452\u001b[0;31m         \u001b[0;32mreturn\u001b[0m \u001b[0m_ConnectionFairy\u001b[0m\u001b[0;34m.\u001b[0m\u001b[0m_checkout\u001b[0m\u001b[0;34m(\u001b[0m\u001b[0mself\u001b[0m\u001b[0;34m)\u001b[0m\u001b[0;34m\u001b[0m\u001b[0;34m\u001b[0m\u001b[0m\n\u001b[0m\u001b[1;32m    453\u001b[0m \u001b[0;34m\u001b[0m\u001b[0m\n",
            "\u001b[0;32m/usr/local/lib/python3.10/dist-packages/sqlalchemy/pool/base.py\u001b[0m in \u001b[0;36m_checkout\u001b[0;34m(cls, pool, threadconns, fairy)\u001b[0m\n\u001b[1;32m   1268\u001b[0m         \u001b[0;32mif\u001b[0m \u001b[0;32mnot\u001b[0m \u001b[0mfairy\u001b[0m\u001b[0;34m:\u001b[0m\u001b[0;34m\u001b[0m\u001b[0;34m\u001b[0m\u001b[0m\n\u001b[0;32m-> 1269\u001b[0;31m             \u001b[0mfairy\u001b[0m \u001b[0;34m=\u001b[0m \u001b[0m_ConnectionRecord\u001b[0m\u001b[0;34m.\u001b[0m\u001b[0mcheckout\u001b[0m\u001b[0;34m(\u001b[0m\u001b[0mpool\u001b[0m\u001b[0;34m)\u001b[0m\u001b[0;34m\u001b[0m\u001b[0;34m\u001b[0m\u001b[0m\n\u001b[0m\u001b[1;32m   1270\u001b[0m \u001b[0;34m\u001b[0m\u001b[0m\n",
            "\u001b[0;32m/usr/local/lib/python3.10/dist-packages/sqlalchemy/pool/base.py\u001b[0m in \u001b[0;36mcheckout\u001b[0;34m(cls, pool)\u001b[0m\n\u001b[1;32m    715\u001b[0m         \u001b[0;32melse\u001b[0m\u001b[0;34m:\u001b[0m\u001b[0;34m\u001b[0m\u001b[0;34m\u001b[0m\u001b[0m\n\u001b[0;32m--> 716\u001b[0;31m             \u001b[0mrec\u001b[0m \u001b[0;34m=\u001b[0m \u001b[0mpool\u001b[0m\u001b[0;34m.\u001b[0m\u001b[0m_do_get\u001b[0m\u001b[0;34m(\u001b[0m\u001b[0;34m)\u001b[0m\u001b[0;34m\u001b[0m\u001b[0;34m\u001b[0m\u001b[0m\n\u001b[0m\u001b[1;32m    717\u001b[0m \u001b[0;34m\u001b[0m\u001b[0m\n",
            "\u001b[0;32m/usr/local/lib/python3.10/dist-packages/sqlalchemy/pool/impl.py\u001b[0m in \u001b[0;36m_do_get\u001b[0;34m(self)\u001b[0m\n\u001b[1;32m    168\u001b[0m             \u001b[0;32mexcept\u001b[0m\u001b[0;34m:\u001b[0m\u001b[0;34m\u001b[0m\u001b[0;34m\u001b[0m\u001b[0m\n\u001b[0;32m--> 169\u001b[0;31m                 \u001b[0;32mwith\u001b[0m \u001b[0mutil\u001b[0m\u001b[0;34m.\u001b[0m\u001b[0msafe_reraise\u001b[0m\u001b[0;34m(\u001b[0m\u001b[0;34m)\u001b[0m\u001b[0;34m:\u001b[0m\u001b[0;34m\u001b[0m\u001b[0;34m\u001b[0m\u001b[0m\n\u001b[0m\u001b[1;32m    170\u001b[0m                     \u001b[0mself\u001b[0m\u001b[0;34m.\u001b[0m\u001b[0m_dec_overflow\u001b[0m\u001b[0;34m(\u001b[0m\u001b[0;34m)\u001b[0m\u001b[0;34m\u001b[0m\u001b[0;34m\u001b[0m\u001b[0m\n",
            "\u001b[0;32m/usr/local/lib/python3.10/dist-packages/sqlalchemy/util/langhelpers.py\u001b[0m in \u001b[0;36m__exit__\u001b[0;34m(self, type_, value, traceback)\u001b[0m\n\u001b[1;32m    145\u001b[0m             \u001b[0mself\u001b[0m\u001b[0;34m.\u001b[0m\u001b[0m_exc_info\u001b[0m \u001b[0;34m=\u001b[0m \u001b[0;32mNone\u001b[0m  \u001b[0;31m# remove potential circular references\u001b[0m\u001b[0;34m\u001b[0m\u001b[0;34m\u001b[0m\u001b[0m\n\u001b[0;32m--> 146\u001b[0;31m             \u001b[0;32mraise\u001b[0m \u001b[0mexc_value\u001b[0m\u001b[0;34m.\u001b[0m\u001b[0mwith_traceback\u001b[0m\u001b[0;34m(\u001b[0m\u001b[0mexc_tb\u001b[0m\u001b[0;34m)\u001b[0m\u001b[0;34m\u001b[0m\u001b[0;34m\u001b[0m\u001b[0m\n\u001b[0m\u001b[1;32m    147\u001b[0m         \u001b[0;32melse\u001b[0m\u001b[0;34m:\u001b[0m\u001b[0;34m\u001b[0m\u001b[0;34m\u001b[0m\u001b[0m\n",
            "\u001b[0;32m/usr/local/lib/python3.10/dist-packages/sqlalchemy/pool/impl.py\u001b[0m in \u001b[0;36m_do_get\u001b[0;34m(self)\u001b[0m\n\u001b[1;32m    166\u001b[0m             \u001b[0;32mtry\u001b[0m\u001b[0;34m:\u001b[0m\u001b[0;34m\u001b[0m\u001b[0;34m\u001b[0m\u001b[0m\n\u001b[0;32m--> 167\u001b[0;31m                 \u001b[0;32mreturn\u001b[0m \u001b[0mself\u001b[0m\u001b[0;34m.\u001b[0m\u001b[0m_create_connection\u001b[0m\u001b[0;34m(\u001b[0m\u001b[0;34m)\u001b[0m\u001b[0;34m\u001b[0m\u001b[0;34m\u001b[0m\u001b[0m\n\u001b[0m\u001b[1;32m    168\u001b[0m             \u001b[0;32mexcept\u001b[0m\u001b[0;34m:\u001b[0m\u001b[0;34m\u001b[0m\u001b[0;34m\u001b[0m\u001b[0m\n",
            "\u001b[0;32m/usr/local/lib/python3.10/dist-packages/sqlalchemy/pool/base.py\u001b[0m in \u001b[0;36m_create_connection\u001b[0;34m(self)\u001b[0m\n\u001b[1;32m    392\u001b[0m \u001b[0;34m\u001b[0m\u001b[0m\n\u001b[0;32m--> 393\u001b[0;31m         \u001b[0;32mreturn\u001b[0m \u001b[0m_ConnectionRecord\u001b[0m\u001b[0;34m(\u001b[0m\u001b[0mself\u001b[0m\u001b[0;34m)\u001b[0m\u001b[0;34m\u001b[0m\u001b[0;34m\u001b[0m\u001b[0m\n\u001b[0m\u001b[1;32m    394\u001b[0m \u001b[0;34m\u001b[0m\u001b[0m\n",
            "\u001b[0;32m/usr/local/lib/python3.10/dist-packages/sqlalchemy/pool/base.py\u001b[0m in \u001b[0;36m__init__\u001b[0;34m(self, pool, connect)\u001b[0m\n\u001b[1;32m    677\u001b[0m         \u001b[0;32mif\u001b[0m \u001b[0mconnect\u001b[0m\u001b[0;34m:\u001b[0m\u001b[0;34m\u001b[0m\u001b[0;34m\u001b[0m\u001b[0m\n\u001b[0;32m--> 678\u001b[0;31m             \u001b[0mself\u001b[0m\u001b[0;34m.\u001b[0m\u001b[0m__connect\u001b[0m\u001b[0;34m(\u001b[0m\u001b[0;34m)\u001b[0m\u001b[0;34m\u001b[0m\u001b[0;34m\u001b[0m\u001b[0m\n\u001b[0m\u001b[1;32m    679\u001b[0m         \u001b[0mself\u001b[0m\u001b[0;34m.\u001b[0m\u001b[0mfinalize_callback\u001b[0m \u001b[0;34m=\u001b[0m \u001b[0mdeque\u001b[0m\u001b[0;34m(\u001b[0m\u001b[0;34m)\u001b[0m\u001b[0;34m\u001b[0m\u001b[0;34m\u001b[0m\u001b[0m\n",
            "\u001b[0;32m/usr/local/lib/python3.10/dist-packages/sqlalchemy/pool/base.py\u001b[0m in \u001b[0;36m__connect\u001b[0;34m(self)\u001b[0m\n\u001b[1;32m    901\u001b[0m         \u001b[0;32mexcept\u001b[0m \u001b[0mBaseException\u001b[0m \u001b[0;32mas\u001b[0m \u001b[0me\u001b[0m\u001b[0;34m:\u001b[0m\u001b[0;34m\u001b[0m\u001b[0;34m\u001b[0m\u001b[0m\n\u001b[0;32m--> 902\u001b[0;31m             \u001b[0;32mwith\u001b[0m \u001b[0mutil\u001b[0m\u001b[0;34m.\u001b[0m\u001b[0msafe_reraise\u001b[0m\u001b[0;34m(\u001b[0m\u001b[0;34m)\u001b[0m\u001b[0;34m:\u001b[0m\u001b[0;34m\u001b[0m\u001b[0;34m\u001b[0m\u001b[0m\n\u001b[0m\u001b[1;32m    903\u001b[0m                 \u001b[0mpool\u001b[0m\u001b[0;34m.\u001b[0m\u001b[0mlogger\u001b[0m\u001b[0;34m.\u001b[0m\u001b[0mdebug\u001b[0m\u001b[0;34m(\u001b[0m\u001b[0;34m\"Error on connect(): %s\"\u001b[0m\u001b[0;34m,\u001b[0m \u001b[0me\u001b[0m\u001b[0;34m)\u001b[0m\u001b[0;34m\u001b[0m\u001b[0;34m\u001b[0m\u001b[0m\n",
            "\u001b[0;32m/usr/local/lib/python3.10/dist-packages/sqlalchemy/util/langhelpers.py\u001b[0m in \u001b[0;36m__exit__\u001b[0;34m(self, type_, value, traceback)\u001b[0m\n\u001b[1;32m    145\u001b[0m             \u001b[0mself\u001b[0m\u001b[0;34m.\u001b[0m\u001b[0m_exc_info\u001b[0m \u001b[0;34m=\u001b[0m \u001b[0;32mNone\u001b[0m  \u001b[0;31m# remove potential circular references\u001b[0m\u001b[0;34m\u001b[0m\u001b[0;34m\u001b[0m\u001b[0m\n\u001b[0;32m--> 146\u001b[0;31m             \u001b[0;32mraise\u001b[0m \u001b[0mexc_value\u001b[0m\u001b[0;34m.\u001b[0m\u001b[0mwith_traceback\u001b[0m\u001b[0;34m(\u001b[0m\u001b[0mexc_tb\u001b[0m\u001b[0;34m)\u001b[0m\u001b[0;34m\u001b[0m\u001b[0;34m\u001b[0m\u001b[0m\n\u001b[0m\u001b[1;32m    147\u001b[0m         \u001b[0;32melse\u001b[0m\u001b[0;34m:\u001b[0m\u001b[0;34m\u001b[0m\u001b[0;34m\u001b[0m\u001b[0m\n",
            "\u001b[0;32m/usr/local/lib/python3.10/dist-packages/sqlalchemy/pool/base.py\u001b[0m in \u001b[0;36m__connect\u001b[0;34m(self)\u001b[0m\n\u001b[1;32m    897\u001b[0m             \u001b[0mself\u001b[0m\u001b[0;34m.\u001b[0m\u001b[0mstarttime\u001b[0m \u001b[0;34m=\u001b[0m \u001b[0mtime\u001b[0m\u001b[0;34m.\u001b[0m\u001b[0mtime\u001b[0m\u001b[0;34m(\u001b[0m\u001b[0;34m)\u001b[0m\u001b[0;34m\u001b[0m\u001b[0;34m\u001b[0m\u001b[0m\n\u001b[0;32m--> 898\u001b[0;31m             \u001b[0mself\u001b[0m\u001b[0;34m.\u001b[0m\u001b[0mdbapi_connection\u001b[0m \u001b[0;34m=\u001b[0m \u001b[0mconnection\u001b[0m \u001b[0;34m=\u001b[0m \u001b[0mpool\u001b[0m\u001b[0;34m.\u001b[0m\u001b[0m_invoke_creator\u001b[0m\u001b[0;34m(\u001b[0m\u001b[0mself\u001b[0m\u001b[0;34m)\u001b[0m\u001b[0;34m\u001b[0m\u001b[0;34m\u001b[0m\u001b[0m\n\u001b[0m\u001b[1;32m    899\u001b[0m             \u001b[0mpool\u001b[0m\u001b[0;34m.\u001b[0m\u001b[0mlogger\u001b[0m\u001b[0;34m.\u001b[0m\u001b[0mdebug\u001b[0m\u001b[0;34m(\u001b[0m\u001b[0;34m\"Created new connection %r\"\u001b[0m\u001b[0;34m,\u001b[0m \u001b[0mconnection\u001b[0m\u001b[0;34m)\u001b[0m\u001b[0;34m\u001b[0m\u001b[0;34m\u001b[0m\u001b[0m\n",
            "\u001b[0;32m/usr/local/lib/python3.10/dist-packages/sqlalchemy/engine/create.py\u001b[0m in \u001b[0;36mconnect\u001b[0;34m(connection_record)\u001b[0m\n\u001b[1;32m    636\u001b[0m \u001b[0;34m\u001b[0m\u001b[0m\n\u001b[0;32m--> 637\u001b[0;31m             \u001b[0;32mreturn\u001b[0m \u001b[0mdialect\u001b[0m\u001b[0;34m.\u001b[0m\u001b[0mconnect\u001b[0m\u001b[0;34m(\u001b[0m\u001b[0;34m*\u001b[0m\u001b[0mcargs\u001b[0m\u001b[0;34m,\u001b[0m \u001b[0;34m**\u001b[0m\u001b[0mcparams\u001b[0m\u001b[0;34m)\u001b[0m\u001b[0;34m\u001b[0m\u001b[0;34m\u001b[0m\u001b[0m\n\u001b[0m\u001b[1;32m    638\u001b[0m \u001b[0;34m\u001b[0m\u001b[0m\n",
            "\u001b[0;32m/usr/local/lib/python3.10/dist-packages/sqlalchemy/engine/default.py\u001b[0m in \u001b[0;36mconnect\u001b[0;34m(self, *cargs, **cparams)\u001b[0m\n\u001b[1;32m    615\u001b[0m         \u001b[0;31m# inherits the docstring from interfaces.Dialect.connect\u001b[0m\u001b[0;34m\u001b[0m\u001b[0;34m\u001b[0m\u001b[0m\n\u001b[0;32m--> 616\u001b[0;31m         \u001b[0;32mreturn\u001b[0m \u001b[0mself\u001b[0m\u001b[0;34m.\u001b[0m\u001b[0mloaded_dbapi\u001b[0m\u001b[0;34m.\u001b[0m\u001b[0mconnect\u001b[0m\u001b[0;34m(\u001b[0m\u001b[0;34m*\u001b[0m\u001b[0mcargs\u001b[0m\u001b[0;34m,\u001b[0m \u001b[0;34m**\u001b[0m\u001b[0mcparams\u001b[0m\u001b[0;34m)\u001b[0m\u001b[0;34m\u001b[0m\u001b[0;34m\u001b[0m\u001b[0m\n\u001b[0m\u001b[1;32m    617\u001b[0m \u001b[0;34m\u001b[0m\u001b[0m\n",
            "\u001b[0;32m/usr/local/lib/python3.10/dist-packages/psycopg2/__init__.py\u001b[0m in \u001b[0;36mconnect\u001b[0;34m(dsn, connection_factory, cursor_factory, **kwargs)\u001b[0m\n\u001b[1;32m    121\u001b[0m     \u001b[0mdsn\u001b[0m \u001b[0;34m=\u001b[0m \u001b[0m_ext\u001b[0m\u001b[0;34m.\u001b[0m\u001b[0mmake_dsn\u001b[0m\u001b[0;34m(\u001b[0m\u001b[0mdsn\u001b[0m\u001b[0;34m,\u001b[0m \u001b[0;34m**\u001b[0m\u001b[0mkwargs\u001b[0m\u001b[0;34m)\u001b[0m\u001b[0;34m\u001b[0m\u001b[0;34m\u001b[0m\u001b[0m\n\u001b[0;32m--> 122\u001b[0;31m     \u001b[0mconn\u001b[0m \u001b[0;34m=\u001b[0m \u001b[0m_connect\u001b[0m\u001b[0;34m(\u001b[0m\u001b[0mdsn\u001b[0m\u001b[0;34m,\u001b[0m \u001b[0mconnection_factory\u001b[0m\u001b[0;34m=\u001b[0m\u001b[0mconnection_factory\u001b[0m\u001b[0;34m,\u001b[0m \u001b[0;34m**\u001b[0m\u001b[0mkwasync\u001b[0m\u001b[0;34m)\u001b[0m\u001b[0;34m\u001b[0m\u001b[0;34m\u001b[0m\u001b[0m\n\u001b[0m\u001b[1;32m    123\u001b[0m     \u001b[0;32mif\u001b[0m \u001b[0mcursor_factory\u001b[0m \u001b[0;32mis\u001b[0m \u001b[0;32mnot\u001b[0m \u001b[0;32mNone\u001b[0m\u001b[0;34m:\u001b[0m\u001b[0;34m\u001b[0m\u001b[0;34m\u001b[0m\u001b[0m\n",
            "\u001b[0;31mOperationalError\u001b[0m: connection to server at \"localhost\" (127.0.0.1), port 5432 failed: Connection refused\n\tIs the server running on that host and accepting TCP/IP connections?\nconnection to server at \"localhost\" (::1), port 5432 failed: Cannot assign requested address\n\tIs the server running on that host and accepting TCP/IP connections?\n",
            "\nThe above exception was the direct cause of the following exception:\n",
            "\u001b[0;31mOperationalError\u001b[0m                          Traceback (most recent call last)",
            "\u001b[0;32m<ipython-input-4-8817e3f05513>\u001b[0m in \u001b[0;36m<cell line: 1>\u001b[0;34m()\u001b[0m\n\u001b[0;32m----> 1\u001b[0;31m \u001b[0mactors\u001b[0m \u001b[0;34m=\u001b[0m \u001b[0mpd\u001b[0m\u001b[0;34m.\u001b[0m\u001b[0mread_sql_table\u001b[0m\u001b[0;34m(\u001b[0m\u001b[0;34m'actor'\u001b[0m\u001b[0;34m,\u001b[0m \u001b[0mengine\u001b[0m\u001b[0;34m)\u001b[0m\u001b[0;34m\u001b[0m\u001b[0;34m\u001b[0m\u001b[0m\n\u001b[0m",
            "\u001b[0;32m/usr/local/lib/python3.10/dist-packages/pandas/io/sql.py\u001b[0m in \u001b[0;36mread_sql_table\u001b[0;34m(table_name, con, schema, index_col, coerce_float, parse_dates, columns, chunksize)\u001b[0m\n\u001b[1;32m    279\u001b[0m     \"\"\"\n\u001b[1;32m    280\u001b[0m     \u001b[0mpandas_sql\u001b[0m \u001b[0;34m=\u001b[0m \u001b[0mpandasSQL_builder\u001b[0m\u001b[0;34m(\u001b[0m\u001b[0mcon\u001b[0m\u001b[0;34m,\u001b[0m \u001b[0mschema\u001b[0m\u001b[0;34m=\u001b[0m\u001b[0mschema\u001b[0m\u001b[0;34m)\u001b[0m\u001b[0;34m\u001b[0m\u001b[0;34m\u001b[0m\u001b[0m\n\u001b[0;32m--> 281\u001b[0;31m     \u001b[0;32mif\u001b[0m \u001b[0;32mnot\u001b[0m \u001b[0mpandas_sql\u001b[0m\u001b[0;34m.\u001b[0m\u001b[0mhas_table\u001b[0m\u001b[0;34m(\u001b[0m\u001b[0mtable_name\u001b[0m\u001b[0;34m)\u001b[0m\u001b[0;34m:\u001b[0m\u001b[0;34m\u001b[0m\u001b[0;34m\u001b[0m\u001b[0m\n\u001b[0m\u001b[1;32m    282\u001b[0m         \u001b[0;32mraise\u001b[0m \u001b[0mValueError\u001b[0m\u001b[0;34m(\u001b[0m\u001b[0;34mf\"Table {table_name} not found\"\u001b[0m\u001b[0;34m)\u001b[0m\u001b[0;34m\u001b[0m\u001b[0;34m\u001b[0m\u001b[0m\n\u001b[1;32m    283\u001b[0m \u001b[0;34m\u001b[0m\u001b[0m\n",
            "\u001b[0;32m/usr/local/lib/python3.10/dist-packages/pandas/io/sql.py\u001b[0m in \u001b[0;36mhas_table\u001b[0;34m(self, name, schema)\u001b[0m\n\u001b[1;32m   1758\u001b[0m         \u001b[0;32mfrom\u001b[0m \u001b[0msqlalchemy\u001b[0m \u001b[0;32mimport\u001b[0m \u001b[0minspect\u001b[0m \u001b[0;32mas\u001b[0m \u001b[0msqlalchemy_inspect\u001b[0m\u001b[0;34m\u001b[0m\u001b[0;34m\u001b[0m\u001b[0m\n\u001b[1;32m   1759\u001b[0m \u001b[0;34m\u001b[0m\u001b[0m\n\u001b[0;32m-> 1760\u001b[0;31m         \u001b[0minsp\u001b[0m \u001b[0;34m=\u001b[0m \u001b[0msqlalchemy_inspect\u001b[0m\u001b[0;34m(\u001b[0m\u001b[0mself\u001b[0m\u001b[0;34m.\u001b[0m\u001b[0mconnectable\u001b[0m\u001b[0;34m)\u001b[0m\u001b[0;34m\u001b[0m\u001b[0;34m\u001b[0m\u001b[0m\n\u001b[0m\u001b[1;32m   1761\u001b[0m         \u001b[0;32mreturn\u001b[0m \u001b[0minsp\u001b[0m\u001b[0;34m.\u001b[0m\u001b[0mhas_table\u001b[0m\u001b[0;34m(\u001b[0m\u001b[0mname\u001b[0m\u001b[0;34m,\u001b[0m \u001b[0mschema\u001b[0m \u001b[0;32mor\u001b[0m \u001b[0mself\u001b[0m\u001b[0;34m.\u001b[0m\u001b[0mmeta\u001b[0m\u001b[0;34m.\u001b[0m\u001b[0mschema\u001b[0m\u001b[0;34m)\u001b[0m\u001b[0;34m\u001b[0m\u001b[0;34m\u001b[0m\u001b[0m\n\u001b[1;32m   1762\u001b[0m \u001b[0;34m\u001b[0m\u001b[0m\n",
            "\u001b[0;32m/usr/local/lib/python3.10/dist-packages/sqlalchemy/inspection.py\u001b[0m in \u001b[0;36minspect\u001b[0;34m(subject, raiseerr)\u001b[0m\n\u001b[1;32m    143\u001b[0m             \u001b[0;32melif\u001b[0m \u001b[0mreg\u001b[0m \u001b[0;32mis\u001b[0m \u001b[0;32mTrue\u001b[0m\u001b[0;34m:\u001b[0m\u001b[0;34m\u001b[0m\u001b[0;34m\u001b[0m\u001b[0m\n\u001b[1;32m    144\u001b[0m                 \u001b[0;32mreturn\u001b[0m \u001b[0msubject\u001b[0m\u001b[0;34m\u001b[0m\u001b[0;34m\u001b[0m\u001b[0m\n\u001b[0;32m--> 145\u001b[0;31m             \u001b[0mret\u001b[0m \u001b[0;34m=\u001b[0m \u001b[0mreg\u001b[0m\u001b[0;34m(\u001b[0m\u001b[0msubject\u001b[0m\u001b[0;34m)\u001b[0m\u001b[0;34m\u001b[0m\u001b[0;34m\u001b[0m\u001b[0m\n\u001b[0m\u001b[1;32m    146\u001b[0m             \u001b[0;32mif\u001b[0m \u001b[0mret\u001b[0m \u001b[0;32mis\u001b[0m \u001b[0;32mnot\u001b[0m \u001b[0;32mNone\u001b[0m\u001b[0;34m:\u001b[0m\u001b[0;34m\u001b[0m\u001b[0;34m\u001b[0m\u001b[0m\n\u001b[1;32m    147\u001b[0m                 \u001b[0;32mreturn\u001b[0m \u001b[0mret\u001b[0m\u001b[0;34m\u001b[0m\u001b[0;34m\u001b[0m\u001b[0m\n",
            "\u001b[0;32m/usr/local/lib/python3.10/dist-packages/sqlalchemy/engine/reflection.py\u001b[0m in \u001b[0;36m_engine_insp\u001b[0;34m(bind)\u001b[0m\n\u001b[1;32m    301\u001b[0m     \u001b[0;34m@\u001b[0m\u001b[0minspection\u001b[0m\u001b[0;34m.\u001b[0m\u001b[0m_inspects\u001b[0m\u001b[0;34m(\u001b[0m\u001b[0mEngine\u001b[0m\u001b[0;34m)\u001b[0m\u001b[0;34m\u001b[0m\u001b[0;34m\u001b[0m\u001b[0m\n\u001b[1;32m    302\u001b[0m     \u001b[0;32mdef\u001b[0m \u001b[0m_engine_insp\u001b[0m\u001b[0;34m(\u001b[0m\u001b[0mbind\u001b[0m\u001b[0;34m:\u001b[0m \u001b[0mEngine\u001b[0m\u001b[0;34m)\u001b[0m \u001b[0;34m->\u001b[0m \u001b[0mInspector\u001b[0m\u001b[0;34m:\u001b[0m  \u001b[0;31m# type: ignore[misc]\u001b[0m\u001b[0;34m\u001b[0m\u001b[0;34m\u001b[0m\u001b[0m\n\u001b[0;32m--> 303\u001b[0;31m         \u001b[0;32mreturn\u001b[0m \u001b[0mInspector\u001b[0m\u001b[0;34m.\u001b[0m\u001b[0m_construct\u001b[0m\u001b[0;34m(\u001b[0m\u001b[0mInspector\u001b[0m\u001b[0;34m.\u001b[0m\u001b[0m_init_engine\u001b[0m\u001b[0;34m,\u001b[0m \u001b[0mbind\u001b[0m\u001b[0;34m)\u001b[0m\u001b[0;34m\u001b[0m\u001b[0;34m\u001b[0m\u001b[0m\n\u001b[0m\u001b[1;32m    304\u001b[0m \u001b[0;34m\u001b[0m\u001b[0m\n\u001b[1;32m    305\u001b[0m     \u001b[0;34m@\u001b[0m\u001b[0minspection\u001b[0m\u001b[0;34m.\u001b[0m\u001b[0m_inspects\u001b[0m\u001b[0;34m(\u001b[0m\u001b[0mConnection\u001b[0m\u001b[0;34m)\u001b[0m\u001b[0;34m\u001b[0m\u001b[0;34m\u001b[0m\u001b[0m\n",
            "\u001b[0;32m/usr/local/lib/python3.10/dist-packages/sqlalchemy/engine/reflection.py\u001b[0m in \u001b[0;36m_construct\u001b[0;34m(cls, init, bind)\u001b[0m\n\u001b[1;32m    234\u001b[0m \u001b[0;34m\u001b[0m\u001b[0m\n\u001b[1;32m    235\u001b[0m         \u001b[0mself\u001b[0m \u001b[0;34m=\u001b[0m \u001b[0mcls\u001b[0m\u001b[0;34m.\u001b[0m\u001b[0m__new__\u001b[0m\u001b[0;34m(\u001b[0m\u001b[0mcls\u001b[0m\u001b[0;34m)\u001b[0m\u001b[0;34m\u001b[0m\u001b[0;34m\u001b[0m\u001b[0m\n\u001b[0;32m--> 236\u001b[0;31m         \u001b[0minit\u001b[0m\u001b[0;34m(\u001b[0m\u001b[0mself\u001b[0m\u001b[0;34m,\u001b[0m \u001b[0mbind\u001b[0m\u001b[0;34m)\u001b[0m\u001b[0;34m\u001b[0m\u001b[0;34m\u001b[0m\u001b[0m\n\u001b[0m\u001b[1;32m    237\u001b[0m         \u001b[0;32mreturn\u001b[0m \u001b[0mself\u001b[0m\u001b[0;34m\u001b[0m\u001b[0;34m\u001b[0m\u001b[0m\n\u001b[1;32m    238\u001b[0m \u001b[0;34m\u001b[0m\u001b[0m\n",
            "\u001b[0;32m/usr/local/lib/python3.10/dist-packages/sqlalchemy/engine/reflection.py\u001b[0m in \u001b[0;36m_init_engine\u001b[0;34m(self, engine)\u001b[0m\n\u001b[1;32m    245\u001b[0m     \u001b[0;32mdef\u001b[0m \u001b[0m_init_engine\u001b[0m\u001b[0;34m(\u001b[0m\u001b[0mself\u001b[0m\u001b[0;34m,\u001b[0m \u001b[0mengine\u001b[0m\u001b[0;34m:\u001b[0m \u001b[0mEngine\u001b[0m\u001b[0;34m)\u001b[0m \u001b[0;34m->\u001b[0m \u001b[0;32mNone\u001b[0m\u001b[0;34m:\u001b[0m\u001b[0;34m\u001b[0m\u001b[0;34m\u001b[0m\u001b[0m\n\u001b[1;32m    246\u001b[0m         \u001b[0mself\u001b[0m\u001b[0;34m.\u001b[0m\u001b[0mbind\u001b[0m \u001b[0;34m=\u001b[0m \u001b[0mself\u001b[0m\u001b[0;34m.\u001b[0m\u001b[0mengine\u001b[0m \u001b[0;34m=\u001b[0m \u001b[0mengine\u001b[0m\u001b[0;34m\u001b[0m\u001b[0;34m\u001b[0m\u001b[0m\n\u001b[0;32m--> 247\u001b[0;31m         \u001b[0mengine\u001b[0m\u001b[0;34m.\u001b[0m\u001b[0mconnect\u001b[0m\u001b[0;34m(\u001b[0m\u001b[0;34m)\u001b[0m\u001b[0;34m.\u001b[0m\u001b[0mclose\u001b[0m\u001b[0;34m(\u001b[0m\u001b[0;34m)\u001b[0m\u001b[0;34m\u001b[0m\u001b[0;34m\u001b[0m\u001b[0m\n\u001b[0m\u001b[1;32m    248\u001b[0m         \u001b[0mself\u001b[0m\u001b[0;34m.\u001b[0m\u001b[0m_op_context_requires_connect\u001b[0m \u001b[0;34m=\u001b[0m \u001b[0;32mTrue\u001b[0m\u001b[0;34m\u001b[0m\u001b[0;34m\u001b[0m\u001b[0m\n\u001b[1;32m    249\u001b[0m         \u001b[0mself\u001b[0m\u001b[0;34m.\u001b[0m\u001b[0mdialect\u001b[0m \u001b[0;34m=\u001b[0m \u001b[0mself\u001b[0m\u001b[0;34m.\u001b[0m\u001b[0mengine\u001b[0m\u001b[0;34m.\u001b[0m\u001b[0mdialect\u001b[0m\u001b[0;34m\u001b[0m\u001b[0;34m\u001b[0m\u001b[0m\n",
            "\u001b[0;32m/usr/local/lib/python3.10/dist-packages/sqlalchemy/engine/base.py\u001b[0m in \u001b[0;36mconnect\u001b[0;34m(self)\u001b[0m\n\u001b[1;32m   3266\u001b[0m         \"\"\"\n\u001b[1;32m   3267\u001b[0m \u001b[0;34m\u001b[0m\u001b[0m\n\u001b[0;32m-> 3268\u001b[0;31m         \u001b[0;32mreturn\u001b[0m \u001b[0mself\u001b[0m\u001b[0;34m.\u001b[0m\u001b[0m_connection_cls\u001b[0m\u001b[0;34m(\u001b[0m\u001b[0mself\u001b[0m\u001b[0;34m)\u001b[0m\u001b[0;34m\u001b[0m\u001b[0;34m\u001b[0m\u001b[0m\n\u001b[0m\u001b[1;32m   3269\u001b[0m \u001b[0;34m\u001b[0m\u001b[0m\n\u001b[1;32m   3270\u001b[0m     \u001b[0;32mdef\u001b[0m \u001b[0mraw_connection\u001b[0m\u001b[0;34m(\u001b[0m\u001b[0mself\u001b[0m\u001b[0;34m)\u001b[0m \u001b[0;34m->\u001b[0m \u001b[0mPoolProxiedConnection\u001b[0m\u001b[0;34m:\u001b[0m\u001b[0;34m\u001b[0m\u001b[0;34m\u001b[0m\u001b[0m\n",
            "\u001b[0;32m/usr/local/lib/python3.10/dist-packages/sqlalchemy/engine/base.py\u001b[0m in \u001b[0;36m__init__\u001b[0;34m(self, engine, connection, _has_events, _allow_revalidate, _allow_autobegin)\u001b[0m\n\u001b[1;32m    145\u001b[0m                 \u001b[0mself\u001b[0m\u001b[0;34m.\u001b[0m\u001b[0m_dbapi_connection\u001b[0m \u001b[0;34m=\u001b[0m \u001b[0mengine\u001b[0m\u001b[0;34m.\u001b[0m\u001b[0mraw_connection\u001b[0m\u001b[0;34m(\u001b[0m\u001b[0;34m)\u001b[0m\u001b[0;34m\u001b[0m\u001b[0;34m\u001b[0m\u001b[0m\n\u001b[1;32m    146\u001b[0m             \u001b[0;32mexcept\u001b[0m \u001b[0mdialect\u001b[0m\u001b[0;34m.\u001b[0m\u001b[0mloaded_dbapi\u001b[0m\u001b[0;34m.\u001b[0m\u001b[0mError\u001b[0m \u001b[0;32mas\u001b[0m \u001b[0merr\u001b[0m\u001b[0;34m:\u001b[0m\u001b[0;34m\u001b[0m\u001b[0;34m\u001b[0m\u001b[0m\n\u001b[0;32m--> 147\u001b[0;31m                 Connection._handle_dbapi_exception_noconnection(\n\u001b[0m\u001b[1;32m    148\u001b[0m                     \u001b[0merr\u001b[0m\u001b[0;34m,\u001b[0m \u001b[0mdialect\u001b[0m\u001b[0;34m,\u001b[0m \u001b[0mengine\u001b[0m\u001b[0;34m\u001b[0m\u001b[0;34m\u001b[0m\u001b[0m\n\u001b[1;32m    149\u001b[0m                 )\n",
            "\u001b[0;32m/usr/local/lib/python3.10/dist-packages/sqlalchemy/engine/base.py\u001b[0m in \u001b[0;36m_handle_dbapi_exception_noconnection\u001b[0;34m(cls, e, dialect, engine, is_disconnect, invalidate_pool_on_disconnect, is_pre_ping)\u001b[0m\n\u001b[1;32m   2428\u001b[0m         \u001b[0;32melif\u001b[0m \u001b[0mshould_wrap\u001b[0m\u001b[0;34m:\u001b[0m\u001b[0;34m\u001b[0m\u001b[0;34m\u001b[0m\u001b[0m\n\u001b[1;32m   2429\u001b[0m             \u001b[0;32massert\u001b[0m \u001b[0msqlalchemy_exception\u001b[0m \u001b[0;32mis\u001b[0m \u001b[0;32mnot\u001b[0m \u001b[0;32mNone\u001b[0m\u001b[0;34m\u001b[0m\u001b[0;34m\u001b[0m\u001b[0m\n\u001b[0;32m-> 2430\u001b[0;31m             \u001b[0;32mraise\u001b[0m \u001b[0msqlalchemy_exception\u001b[0m\u001b[0;34m.\u001b[0m\u001b[0mwith_traceback\u001b[0m\u001b[0;34m(\u001b[0m\u001b[0mexc_info\u001b[0m\u001b[0;34m[\u001b[0m\u001b[0;36m2\u001b[0m\u001b[0;34m]\u001b[0m\u001b[0;34m)\u001b[0m \u001b[0;32mfrom\u001b[0m \u001b[0me\u001b[0m\u001b[0;34m\u001b[0m\u001b[0;34m\u001b[0m\u001b[0m\n\u001b[0m\u001b[1;32m   2431\u001b[0m         \u001b[0;32melse\u001b[0m\u001b[0;34m:\u001b[0m\u001b[0;34m\u001b[0m\u001b[0;34m\u001b[0m\u001b[0m\n\u001b[1;32m   2432\u001b[0m             \u001b[0;32massert\u001b[0m \u001b[0mexc_info\u001b[0m\u001b[0;34m[\u001b[0m\u001b[0;36m1\u001b[0m\u001b[0;34m]\u001b[0m \u001b[0;32mis\u001b[0m \u001b[0;32mnot\u001b[0m \u001b[0;32mNone\u001b[0m\u001b[0;34m\u001b[0m\u001b[0;34m\u001b[0m\u001b[0m\n",
            "\u001b[0;32m/usr/local/lib/python3.10/dist-packages/sqlalchemy/engine/base.py\u001b[0m in \u001b[0;36m__init__\u001b[0;34m(self, engine, connection, _has_events, _allow_revalidate, _allow_autobegin)\u001b[0m\n\u001b[1;32m    143\u001b[0m         \u001b[0;32mif\u001b[0m \u001b[0mconnection\u001b[0m \u001b[0;32mis\u001b[0m \u001b[0;32mNone\u001b[0m\u001b[0;34m:\u001b[0m\u001b[0;34m\u001b[0m\u001b[0;34m\u001b[0m\u001b[0m\n\u001b[1;32m    144\u001b[0m             \u001b[0;32mtry\u001b[0m\u001b[0;34m:\u001b[0m\u001b[0;34m\u001b[0m\u001b[0;34m\u001b[0m\u001b[0m\n\u001b[0;32m--> 145\u001b[0;31m                 \u001b[0mself\u001b[0m\u001b[0;34m.\u001b[0m\u001b[0m_dbapi_connection\u001b[0m \u001b[0;34m=\u001b[0m \u001b[0mengine\u001b[0m\u001b[0;34m.\u001b[0m\u001b[0mraw_connection\u001b[0m\u001b[0;34m(\u001b[0m\u001b[0;34m)\u001b[0m\u001b[0;34m\u001b[0m\u001b[0;34m\u001b[0m\u001b[0m\n\u001b[0m\u001b[1;32m    146\u001b[0m             \u001b[0;32mexcept\u001b[0m \u001b[0mdialect\u001b[0m\u001b[0;34m.\u001b[0m\u001b[0mloaded_dbapi\u001b[0m\u001b[0;34m.\u001b[0m\u001b[0mError\u001b[0m \u001b[0;32mas\u001b[0m \u001b[0merr\u001b[0m\u001b[0;34m:\u001b[0m\u001b[0;34m\u001b[0m\u001b[0;34m\u001b[0m\u001b[0m\n\u001b[1;32m    147\u001b[0m                 Connection._handle_dbapi_exception_noconnection(\n",
            "\u001b[0;32m/usr/local/lib/python3.10/dist-packages/sqlalchemy/engine/base.py\u001b[0m in \u001b[0;36mraw_connection\u001b[0;34m(self)\u001b[0m\n\u001b[1;32m   3290\u001b[0m \u001b[0;34m\u001b[0m\u001b[0m\n\u001b[1;32m   3291\u001b[0m         \"\"\"\n\u001b[0;32m-> 3292\u001b[0;31m         \u001b[0;32mreturn\u001b[0m \u001b[0mself\u001b[0m\u001b[0;34m.\u001b[0m\u001b[0mpool\u001b[0m\u001b[0;34m.\u001b[0m\u001b[0mconnect\u001b[0m\u001b[0;34m(\u001b[0m\u001b[0;34m)\u001b[0m\u001b[0;34m\u001b[0m\u001b[0;34m\u001b[0m\u001b[0m\n\u001b[0m\u001b[1;32m   3293\u001b[0m \u001b[0;34m\u001b[0m\u001b[0m\n\u001b[1;32m   3294\u001b[0m \u001b[0;34m\u001b[0m\u001b[0m\n",
            "\u001b[0;32m/usr/local/lib/python3.10/dist-packages/sqlalchemy/pool/base.py\u001b[0m in \u001b[0;36mconnect\u001b[0;34m(self)\u001b[0m\n\u001b[1;32m    450\u001b[0m \u001b[0;34m\u001b[0m\u001b[0m\n\u001b[1;32m    451\u001b[0m         \"\"\"\n\u001b[0;32m--> 452\u001b[0;31m         \u001b[0;32mreturn\u001b[0m \u001b[0m_ConnectionFairy\u001b[0m\u001b[0;34m.\u001b[0m\u001b[0m_checkout\u001b[0m\u001b[0;34m(\u001b[0m\u001b[0mself\u001b[0m\u001b[0;34m)\u001b[0m\u001b[0;34m\u001b[0m\u001b[0;34m\u001b[0m\u001b[0m\n\u001b[0m\u001b[1;32m    453\u001b[0m \u001b[0;34m\u001b[0m\u001b[0m\n\u001b[1;32m    454\u001b[0m     \u001b[0;32mdef\u001b[0m \u001b[0m_return_conn\u001b[0m\u001b[0;34m(\u001b[0m\u001b[0mself\u001b[0m\u001b[0;34m,\u001b[0m \u001b[0mrecord\u001b[0m\u001b[0;34m:\u001b[0m \u001b[0mConnectionPoolEntry\u001b[0m\u001b[0;34m)\u001b[0m \u001b[0;34m->\u001b[0m \u001b[0;32mNone\u001b[0m\u001b[0;34m:\u001b[0m\u001b[0;34m\u001b[0m\u001b[0;34m\u001b[0m\u001b[0m\n",
            "\u001b[0;32m/usr/local/lib/python3.10/dist-packages/sqlalchemy/pool/base.py\u001b[0m in \u001b[0;36m_checkout\u001b[0;34m(cls, pool, threadconns, fairy)\u001b[0m\n\u001b[1;32m   1267\u001b[0m     ) -> _ConnectionFairy:\n\u001b[1;32m   1268\u001b[0m         \u001b[0;32mif\u001b[0m \u001b[0;32mnot\u001b[0m \u001b[0mfairy\u001b[0m\u001b[0;34m:\u001b[0m\u001b[0;34m\u001b[0m\u001b[0;34m\u001b[0m\u001b[0m\n\u001b[0;32m-> 1269\u001b[0;31m             \u001b[0mfairy\u001b[0m \u001b[0;34m=\u001b[0m \u001b[0m_ConnectionRecord\u001b[0m\u001b[0;34m.\u001b[0m\u001b[0mcheckout\u001b[0m\u001b[0;34m(\u001b[0m\u001b[0mpool\u001b[0m\u001b[0;34m)\u001b[0m\u001b[0;34m\u001b[0m\u001b[0;34m\u001b[0m\u001b[0m\n\u001b[0m\u001b[1;32m   1270\u001b[0m \u001b[0;34m\u001b[0m\u001b[0m\n\u001b[1;32m   1271\u001b[0m             \u001b[0;32mif\u001b[0m \u001b[0mthreadconns\u001b[0m \u001b[0;32mis\u001b[0m \u001b[0;32mnot\u001b[0m \u001b[0;32mNone\u001b[0m\u001b[0;34m:\u001b[0m\u001b[0;34m\u001b[0m\u001b[0;34m\u001b[0m\u001b[0m\n",
            "\u001b[0;32m/usr/local/lib/python3.10/dist-packages/sqlalchemy/pool/base.py\u001b[0m in \u001b[0;36mcheckout\u001b[0;34m(cls, pool)\u001b[0m\n\u001b[1;32m    714\u001b[0m             \u001b[0mrec\u001b[0m \u001b[0;34m=\u001b[0m \u001b[0mcast\u001b[0m\u001b[0;34m(\u001b[0m\u001b[0m_ConnectionRecord\u001b[0m\u001b[0;34m,\u001b[0m \u001b[0mpool\u001b[0m\u001b[0;34m.\u001b[0m\u001b[0m_do_get\u001b[0m\u001b[0;34m(\u001b[0m\u001b[0;34m)\u001b[0m\u001b[0;34m)\u001b[0m\u001b[0;34m\u001b[0m\u001b[0;34m\u001b[0m\u001b[0m\n\u001b[1;32m    715\u001b[0m         \u001b[0;32melse\u001b[0m\u001b[0;34m:\u001b[0m\u001b[0;34m\u001b[0m\u001b[0;34m\u001b[0m\u001b[0m\n\u001b[0;32m--> 716\u001b[0;31m             \u001b[0mrec\u001b[0m \u001b[0;34m=\u001b[0m \u001b[0mpool\u001b[0m\u001b[0;34m.\u001b[0m\u001b[0m_do_get\u001b[0m\u001b[0;34m(\u001b[0m\u001b[0;34m)\u001b[0m\u001b[0;34m\u001b[0m\u001b[0;34m\u001b[0m\u001b[0m\n\u001b[0m\u001b[1;32m    717\u001b[0m \u001b[0;34m\u001b[0m\u001b[0m\n\u001b[1;32m    718\u001b[0m         \u001b[0;32mtry\u001b[0m\u001b[0;34m:\u001b[0m\u001b[0;34m\u001b[0m\u001b[0;34m\u001b[0m\u001b[0m\n",
            "\u001b[0;32m/usr/local/lib/python3.10/dist-packages/sqlalchemy/pool/impl.py\u001b[0m in \u001b[0;36m_do_get\u001b[0;34m(self)\u001b[0m\n\u001b[1;32m    167\u001b[0m                 \u001b[0;32mreturn\u001b[0m \u001b[0mself\u001b[0m\u001b[0;34m.\u001b[0m\u001b[0m_create_connection\u001b[0m\u001b[0;34m(\u001b[0m\u001b[0;34m)\u001b[0m\u001b[0;34m\u001b[0m\u001b[0;34m\u001b[0m\u001b[0m\n\u001b[1;32m    168\u001b[0m             \u001b[0;32mexcept\u001b[0m\u001b[0;34m:\u001b[0m\u001b[0;34m\u001b[0m\u001b[0;34m\u001b[0m\u001b[0m\n\u001b[0;32m--> 169\u001b[0;31m                 \u001b[0;32mwith\u001b[0m \u001b[0mutil\u001b[0m\u001b[0;34m.\u001b[0m\u001b[0msafe_reraise\u001b[0m\u001b[0;34m(\u001b[0m\u001b[0;34m)\u001b[0m\u001b[0;34m:\u001b[0m\u001b[0;34m\u001b[0m\u001b[0;34m\u001b[0m\u001b[0m\n\u001b[0m\u001b[1;32m    170\u001b[0m                     \u001b[0mself\u001b[0m\u001b[0;34m.\u001b[0m\u001b[0m_dec_overflow\u001b[0m\u001b[0;34m(\u001b[0m\u001b[0;34m)\u001b[0m\u001b[0;34m\u001b[0m\u001b[0;34m\u001b[0m\u001b[0m\n\u001b[1;32m    171\u001b[0m                 \u001b[0;32mraise\u001b[0m\u001b[0;34m\u001b[0m\u001b[0;34m\u001b[0m\u001b[0m\n",
            "\u001b[0;32m/usr/local/lib/python3.10/dist-packages/sqlalchemy/util/langhelpers.py\u001b[0m in \u001b[0;36m__exit__\u001b[0;34m(self, type_, value, traceback)\u001b[0m\n\u001b[1;32m    144\u001b[0m             \u001b[0;32massert\u001b[0m \u001b[0mexc_value\u001b[0m \u001b[0;32mis\u001b[0m \u001b[0;32mnot\u001b[0m \u001b[0;32mNone\u001b[0m\u001b[0;34m\u001b[0m\u001b[0;34m\u001b[0m\u001b[0m\n\u001b[1;32m    145\u001b[0m             \u001b[0mself\u001b[0m\u001b[0;34m.\u001b[0m\u001b[0m_exc_info\u001b[0m \u001b[0;34m=\u001b[0m \u001b[0;32mNone\u001b[0m  \u001b[0;31m# remove potential circular references\u001b[0m\u001b[0;34m\u001b[0m\u001b[0;34m\u001b[0m\u001b[0m\n\u001b[0;32m--> 146\u001b[0;31m             \u001b[0;32mraise\u001b[0m \u001b[0mexc_value\u001b[0m\u001b[0;34m.\u001b[0m\u001b[0mwith_traceback\u001b[0m\u001b[0;34m(\u001b[0m\u001b[0mexc_tb\u001b[0m\u001b[0;34m)\u001b[0m\u001b[0;34m\u001b[0m\u001b[0;34m\u001b[0m\u001b[0m\n\u001b[0m\u001b[1;32m    147\u001b[0m         \u001b[0;32melse\u001b[0m\u001b[0;34m:\u001b[0m\u001b[0;34m\u001b[0m\u001b[0;34m\u001b[0m\u001b[0m\n\u001b[1;32m    148\u001b[0m             \u001b[0mself\u001b[0m\u001b[0;34m.\u001b[0m\u001b[0m_exc_info\u001b[0m \u001b[0;34m=\u001b[0m \u001b[0;32mNone\u001b[0m  \u001b[0;31m# remove potential circular references\u001b[0m\u001b[0;34m\u001b[0m\u001b[0;34m\u001b[0m\u001b[0m\n",
            "\u001b[0;32m/usr/local/lib/python3.10/dist-packages/sqlalchemy/pool/impl.py\u001b[0m in \u001b[0;36m_do_get\u001b[0;34m(self)\u001b[0m\n\u001b[1;32m    165\u001b[0m         \u001b[0;32mif\u001b[0m \u001b[0mself\u001b[0m\u001b[0;34m.\u001b[0m\u001b[0m_inc_overflow\u001b[0m\u001b[0;34m(\u001b[0m\u001b[0;34m)\u001b[0m\u001b[0;34m:\u001b[0m\u001b[0;34m\u001b[0m\u001b[0;34m\u001b[0m\u001b[0m\n\u001b[1;32m    166\u001b[0m             \u001b[0;32mtry\u001b[0m\u001b[0;34m:\u001b[0m\u001b[0;34m\u001b[0m\u001b[0;34m\u001b[0m\u001b[0m\n\u001b[0;32m--> 167\u001b[0;31m                 \u001b[0;32mreturn\u001b[0m \u001b[0mself\u001b[0m\u001b[0;34m.\u001b[0m\u001b[0m_create_connection\u001b[0m\u001b[0;34m(\u001b[0m\u001b[0;34m)\u001b[0m\u001b[0;34m\u001b[0m\u001b[0;34m\u001b[0m\u001b[0m\n\u001b[0m\u001b[1;32m    168\u001b[0m             \u001b[0;32mexcept\u001b[0m\u001b[0;34m:\u001b[0m\u001b[0;34m\u001b[0m\u001b[0;34m\u001b[0m\u001b[0m\n\u001b[1;32m    169\u001b[0m                 \u001b[0;32mwith\u001b[0m \u001b[0mutil\u001b[0m\u001b[0;34m.\u001b[0m\u001b[0msafe_reraise\u001b[0m\u001b[0;34m(\u001b[0m\u001b[0;34m)\u001b[0m\u001b[0;34m:\u001b[0m\u001b[0;34m\u001b[0m\u001b[0;34m\u001b[0m\u001b[0m\n",
            "\u001b[0;32m/usr/local/lib/python3.10/dist-packages/sqlalchemy/pool/base.py\u001b[0m in \u001b[0;36m_create_connection\u001b[0;34m(self)\u001b[0m\n\u001b[1;32m    391\u001b[0m         \u001b[0;34m\"\"\"Called by subclasses to create a new ConnectionRecord.\"\"\"\u001b[0m\u001b[0;34m\u001b[0m\u001b[0;34m\u001b[0m\u001b[0m\n\u001b[1;32m    392\u001b[0m \u001b[0;34m\u001b[0m\u001b[0m\n\u001b[0;32m--> 393\u001b[0;31m         \u001b[0;32mreturn\u001b[0m \u001b[0m_ConnectionRecord\u001b[0m\u001b[0;34m(\u001b[0m\u001b[0mself\u001b[0m\u001b[0;34m)\u001b[0m\u001b[0;34m\u001b[0m\u001b[0;34m\u001b[0m\u001b[0m\n\u001b[0m\u001b[1;32m    394\u001b[0m \u001b[0;34m\u001b[0m\u001b[0m\n\u001b[1;32m    395\u001b[0m     def _invalidate(\n",
            "\u001b[0;32m/usr/local/lib/python3.10/dist-packages/sqlalchemy/pool/base.py\u001b[0m in \u001b[0;36m__init__\u001b[0;34m(self, pool, connect)\u001b[0m\n\u001b[1;32m    676\u001b[0m         \u001b[0mself\u001b[0m\u001b[0;34m.\u001b[0m\u001b[0m__pool\u001b[0m \u001b[0;34m=\u001b[0m \u001b[0mpool\u001b[0m\u001b[0;34m\u001b[0m\u001b[0;34m\u001b[0m\u001b[0m\n\u001b[1;32m    677\u001b[0m         \u001b[0;32mif\u001b[0m \u001b[0mconnect\u001b[0m\u001b[0;34m:\u001b[0m\u001b[0;34m\u001b[0m\u001b[0;34m\u001b[0m\u001b[0m\n\u001b[0;32m--> 678\u001b[0;31m             \u001b[0mself\u001b[0m\u001b[0;34m.\u001b[0m\u001b[0m__connect\u001b[0m\u001b[0;34m(\u001b[0m\u001b[0;34m)\u001b[0m\u001b[0;34m\u001b[0m\u001b[0;34m\u001b[0m\u001b[0m\n\u001b[0m\u001b[1;32m    679\u001b[0m         \u001b[0mself\u001b[0m\u001b[0;34m.\u001b[0m\u001b[0mfinalize_callback\u001b[0m \u001b[0;34m=\u001b[0m \u001b[0mdeque\u001b[0m\u001b[0;34m(\u001b[0m\u001b[0;34m)\u001b[0m\u001b[0;34m\u001b[0m\u001b[0;34m\u001b[0m\u001b[0m\n\u001b[1;32m    680\u001b[0m \u001b[0;34m\u001b[0m\u001b[0m\n",
            "\u001b[0;32m/usr/local/lib/python3.10/dist-packages/sqlalchemy/pool/base.py\u001b[0m in \u001b[0;36m__connect\u001b[0;34m(self)\u001b[0m\n\u001b[1;32m    900\u001b[0m             \u001b[0mself\u001b[0m\u001b[0;34m.\u001b[0m\u001b[0mfresh\u001b[0m \u001b[0;34m=\u001b[0m \u001b[0;32mTrue\u001b[0m\u001b[0;34m\u001b[0m\u001b[0;34m\u001b[0m\u001b[0m\n\u001b[1;32m    901\u001b[0m         \u001b[0;32mexcept\u001b[0m \u001b[0mBaseException\u001b[0m \u001b[0;32mas\u001b[0m \u001b[0me\u001b[0m\u001b[0;34m:\u001b[0m\u001b[0;34m\u001b[0m\u001b[0;34m\u001b[0m\u001b[0m\n\u001b[0;32m--> 902\u001b[0;31m             \u001b[0;32mwith\u001b[0m \u001b[0mutil\u001b[0m\u001b[0;34m.\u001b[0m\u001b[0msafe_reraise\u001b[0m\u001b[0;34m(\u001b[0m\u001b[0;34m)\u001b[0m\u001b[0;34m:\u001b[0m\u001b[0;34m\u001b[0m\u001b[0;34m\u001b[0m\u001b[0m\n\u001b[0m\u001b[1;32m    903\u001b[0m                 \u001b[0mpool\u001b[0m\u001b[0;34m.\u001b[0m\u001b[0mlogger\u001b[0m\u001b[0;34m.\u001b[0m\u001b[0mdebug\u001b[0m\u001b[0;34m(\u001b[0m\u001b[0;34m\"Error on connect(): %s\"\u001b[0m\u001b[0;34m,\u001b[0m \u001b[0me\u001b[0m\u001b[0;34m)\u001b[0m\u001b[0;34m\u001b[0m\u001b[0;34m\u001b[0m\u001b[0m\n\u001b[1;32m    904\u001b[0m         \u001b[0;32melse\u001b[0m\u001b[0;34m:\u001b[0m\u001b[0;34m\u001b[0m\u001b[0;34m\u001b[0m\u001b[0m\n",
            "\u001b[0;32m/usr/local/lib/python3.10/dist-packages/sqlalchemy/util/langhelpers.py\u001b[0m in \u001b[0;36m__exit__\u001b[0;34m(self, type_, value, traceback)\u001b[0m\n\u001b[1;32m    144\u001b[0m             \u001b[0;32massert\u001b[0m \u001b[0mexc_value\u001b[0m \u001b[0;32mis\u001b[0m \u001b[0;32mnot\u001b[0m \u001b[0;32mNone\u001b[0m\u001b[0;34m\u001b[0m\u001b[0;34m\u001b[0m\u001b[0m\n\u001b[1;32m    145\u001b[0m             \u001b[0mself\u001b[0m\u001b[0;34m.\u001b[0m\u001b[0m_exc_info\u001b[0m \u001b[0;34m=\u001b[0m \u001b[0;32mNone\u001b[0m  \u001b[0;31m# remove potential circular references\u001b[0m\u001b[0;34m\u001b[0m\u001b[0;34m\u001b[0m\u001b[0m\n\u001b[0;32m--> 146\u001b[0;31m             \u001b[0;32mraise\u001b[0m \u001b[0mexc_value\u001b[0m\u001b[0;34m.\u001b[0m\u001b[0mwith_traceback\u001b[0m\u001b[0;34m(\u001b[0m\u001b[0mexc_tb\u001b[0m\u001b[0;34m)\u001b[0m\u001b[0;34m\u001b[0m\u001b[0;34m\u001b[0m\u001b[0m\n\u001b[0m\u001b[1;32m    147\u001b[0m         \u001b[0;32melse\u001b[0m\u001b[0;34m:\u001b[0m\u001b[0;34m\u001b[0m\u001b[0;34m\u001b[0m\u001b[0m\n\u001b[1;32m    148\u001b[0m             \u001b[0mself\u001b[0m\u001b[0;34m.\u001b[0m\u001b[0m_exc_info\u001b[0m \u001b[0;34m=\u001b[0m \u001b[0;32mNone\u001b[0m  \u001b[0;31m# remove potential circular references\u001b[0m\u001b[0;34m\u001b[0m\u001b[0;34m\u001b[0m\u001b[0m\n",
            "\u001b[0;32m/usr/local/lib/python3.10/dist-packages/sqlalchemy/pool/base.py\u001b[0m in \u001b[0;36m__connect\u001b[0;34m(self)\u001b[0m\n\u001b[1;32m    896\u001b[0m         \u001b[0;32mtry\u001b[0m\u001b[0;34m:\u001b[0m\u001b[0;34m\u001b[0m\u001b[0;34m\u001b[0m\u001b[0m\n\u001b[1;32m    897\u001b[0m             \u001b[0mself\u001b[0m\u001b[0;34m.\u001b[0m\u001b[0mstarttime\u001b[0m \u001b[0;34m=\u001b[0m \u001b[0mtime\u001b[0m\u001b[0;34m.\u001b[0m\u001b[0mtime\u001b[0m\u001b[0;34m(\u001b[0m\u001b[0;34m)\u001b[0m\u001b[0;34m\u001b[0m\u001b[0;34m\u001b[0m\u001b[0m\n\u001b[0;32m--> 898\u001b[0;31m             \u001b[0mself\u001b[0m\u001b[0;34m.\u001b[0m\u001b[0mdbapi_connection\u001b[0m \u001b[0;34m=\u001b[0m \u001b[0mconnection\u001b[0m \u001b[0;34m=\u001b[0m \u001b[0mpool\u001b[0m\u001b[0;34m.\u001b[0m\u001b[0m_invoke_creator\u001b[0m\u001b[0;34m(\u001b[0m\u001b[0mself\u001b[0m\u001b[0;34m)\u001b[0m\u001b[0;34m\u001b[0m\u001b[0;34m\u001b[0m\u001b[0m\n\u001b[0m\u001b[1;32m    899\u001b[0m             \u001b[0mpool\u001b[0m\u001b[0;34m.\u001b[0m\u001b[0mlogger\u001b[0m\u001b[0;34m.\u001b[0m\u001b[0mdebug\u001b[0m\u001b[0;34m(\u001b[0m\u001b[0;34m\"Created new connection %r\"\u001b[0m\u001b[0;34m,\u001b[0m \u001b[0mconnection\u001b[0m\u001b[0;34m)\u001b[0m\u001b[0;34m\u001b[0m\u001b[0;34m\u001b[0m\u001b[0m\n\u001b[1;32m    900\u001b[0m             \u001b[0mself\u001b[0m\u001b[0;34m.\u001b[0m\u001b[0mfresh\u001b[0m \u001b[0;34m=\u001b[0m \u001b[0;32mTrue\u001b[0m\u001b[0;34m\u001b[0m\u001b[0;34m\u001b[0m\u001b[0m\n",
            "\u001b[0;32m/usr/local/lib/python3.10/dist-packages/sqlalchemy/engine/create.py\u001b[0m in \u001b[0;36mconnect\u001b[0;34m(connection_record)\u001b[0m\n\u001b[1;32m    635\u001b[0m                         \u001b[0;32mreturn\u001b[0m \u001b[0mconnection\u001b[0m\u001b[0;34m\u001b[0m\u001b[0;34m\u001b[0m\u001b[0m\n\u001b[1;32m    636\u001b[0m \u001b[0;34m\u001b[0m\u001b[0m\n\u001b[0;32m--> 637\u001b[0;31m             \u001b[0;32mreturn\u001b[0m \u001b[0mdialect\u001b[0m\u001b[0;34m.\u001b[0m\u001b[0mconnect\u001b[0m\u001b[0;34m(\u001b[0m\u001b[0;34m*\u001b[0m\u001b[0mcargs\u001b[0m\u001b[0;34m,\u001b[0m \u001b[0;34m**\u001b[0m\u001b[0mcparams\u001b[0m\u001b[0;34m)\u001b[0m\u001b[0;34m\u001b[0m\u001b[0;34m\u001b[0m\u001b[0m\n\u001b[0m\u001b[1;32m    638\u001b[0m \u001b[0;34m\u001b[0m\u001b[0m\n\u001b[1;32m    639\u001b[0m         \u001b[0mcreator\u001b[0m \u001b[0;34m=\u001b[0m \u001b[0mpop_kwarg\u001b[0m\u001b[0;34m(\u001b[0m\u001b[0;34m\"creator\"\u001b[0m\u001b[0;34m,\u001b[0m \u001b[0mconnect\u001b[0m\u001b[0;34m)\u001b[0m\u001b[0;34m\u001b[0m\u001b[0;34m\u001b[0m\u001b[0m\n",
            "\u001b[0;32m/usr/local/lib/python3.10/dist-packages/sqlalchemy/engine/default.py\u001b[0m in \u001b[0;36mconnect\u001b[0;34m(self, *cargs, **cparams)\u001b[0m\n\u001b[1;32m    614\u001b[0m     \u001b[0;32mdef\u001b[0m \u001b[0mconnect\u001b[0m\u001b[0;34m(\u001b[0m\u001b[0mself\u001b[0m\u001b[0;34m,\u001b[0m \u001b[0;34m*\u001b[0m\u001b[0mcargs\u001b[0m\u001b[0;34m,\u001b[0m \u001b[0;34m**\u001b[0m\u001b[0mcparams\u001b[0m\u001b[0;34m)\u001b[0m\u001b[0;34m:\u001b[0m\u001b[0;34m\u001b[0m\u001b[0;34m\u001b[0m\u001b[0m\n\u001b[1;32m    615\u001b[0m         \u001b[0;31m# inherits the docstring from interfaces.Dialect.connect\u001b[0m\u001b[0;34m\u001b[0m\u001b[0;34m\u001b[0m\u001b[0m\n\u001b[0;32m--> 616\u001b[0;31m         \u001b[0;32mreturn\u001b[0m \u001b[0mself\u001b[0m\u001b[0;34m.\u001b[0m\u001b[0mloaded_dbapi\u001b[0m\u001b[0;34m.\u001b[0m\u001b[0mconnect\u001b[0m\u001b[0;34m(\u001b[0m\u001b[0;34m*\u001b[0m\u001b[0mcargs\u001b[0m\u001b[0;34m,\u001b[0m \u001b[0;34m**\u001b[0m\u001b[0mcparams\u001b[0m\u001b[0;34m)\u001b[0m\u001b[0;34m\u001b[0m\u001b[0;34m\u001b[0m\u001b[0m\n\u001b[0m\u001b[1;32m    617\u001b[0m \u001b[0;34m\u001b[0m\u001b[0m\n\u001b[1;32m    618\u001b[0m     \u001b[0;32mdef\u001b[0m \u001b[0mcreate_connect_args\u001b[0m\u001b[0;34m(\u001b[0m\u001b[0mself\u001b[0m\u001b[0;34m,\u001b[0m \u001b[0murl\u001b[0m\u001b[0;34m)\u001b[0m\u001b[0;34m:\u001b[0m\u001b[0;34m\u001b[0m\u001b[0;34m\u001b[0m\u001b[0m\n",
            "\u001b[0;32m/usr/local/lib/python3.10/dist-packages/psycopg2/__init__.py\u001b[0m in \u001b[0;36mconnect\u001b[0;34m(dsn, connection_factory, cursor_factory, **kwargs)\u001b[0m\n\u001b[1;32m    120\u001b[0m \u001b[0;34m\u001b[0m\u001b[0m\n\u001b[1;32m    121\u001b[0m     \u001b[0mdsn\u001b[0m \u001b[0;34m=\u001b[0m \u001b[0m_ext\u001b[0m\u001b[0;34m.\u001b[0m\u001b[0mmake_dsn\u001b[0m\u001b[0;34m(\u001b[0m\u001b[0mdsn\u001b[0m\u001b[0;34m,\u001b[0m \u001b[0;34m**\u001b[0m\u001b[0mkwargs\u001b[0m\u001b[0;34m)\u001b[0m\u001b[0;34m\u001b[0m\u001b[0;34m\u001b[0m\u001b[0m\n\u001b[0;32m--> 122\u001b[0;31m     \u001b[0mconn\u001b[0m \u001b[0;34m=\u001b[0m \u001b[0m_connect\u001b[0m\u001b[0;34m(\u001b[0m\u001b[0mdsn\u001b[0m\u001b[0;34m,\u001b[0m \u001b[0mconnection_factory\u001b[0m\u001b[0;34m=\u001b[0m\u001b[0mconnection_factory\u001b[0m\u001b[0;34m,\u001b[0m \u001b[0;34m**\u001b[0m\u001b[0mkwasync\u001b[0m\u001b[0;34m)\u001b[0m\u001b[0;34m\u001b[0m\u001b[0;34m\u001b[0m\u001b[0m\n\u001b[0m\u001b[1;32m    123\u001b[0m     \u001b[0;32mif\u001b[0m \u001b[0mcursor_factory\u001b[0m \u001b[0;32mis\u001b[0m \u001b[0;32mnot\u001b[0m \u001b[0;32mNone\u001b[0m\u001b[0;34m:\u001b[0m\u001b[0;34m\u001b[0m\u001b[0;34m\u001b[0m\u001b[0m\n\u001b[1;32m    124\u001b[0m         \u001b[0mconn\u001b[0m\u001b[0;34m.\u001b[0m\u001b[0mcursor_factory\u001b[0m \u001b[0;34m=\u001b[0m \u001b[0mcursor_factory\u001b[0m\u001b[0;34m\u001b[0m\u001b[0;34m\u001b[0m\u001b[0m\n",
            "\u001b[0;31mOperationalError\u001b[0m: (psycopg2.OperationalError) connection to server at \"localhost\" (127.0.0.1), port 5432 failed: Connection refused\n\tIs the server running on that host and accepting TCP/IP connections?\nconnection to server at \"localhost\" (::1), port 5432 failed: Cannot assign requested address\n\tIs the server running on that host and accepting TCP/IP connections?\n\n(Background on this error at: https://sqlalche.me/e/20/e3q8)"
          ]
        }
      ],
      "source": [
        "actors = pd.read_sql_table('actor', engine)"
      ]
    },
    {
      "cell_type": "code",
      "execution_count": null,
      "metadata": {
        "id": "-wLqKnojQI4_",
        "outputId": "67f2b589-da43-4280-a85f-c3ec9e600cc6"
      },
      "outputs": [
        {
          "data": {
            "text/html": [
              "<div>\n",
              "<style scoped>\n",
              "    .dataframe tbody tr th:only-of-type {\n",
              "        vertical-align: middle;\n",
              "    }\n",
              "\n",
              "    .dataframe tbody tr th {\n",
              "        vertical-align: top;\n",
              "    }\n",
              "\n",
              "    .dataframe thead th {\n",
              "        text-align: right;\n",
              "    }\n",
              "</style>\n",
              "<table border=\"1\" class=\"dataframe\">\n",
              "  <thead>\n",
              "    <tr style=\"text-align: right;\">\n",
              "      <th></th>\n",
              "      <th>actor_id</th>\n",
              "      <th>first_name</th>\n",
              "      <th>last_name</th>\n",
              "      <th>last_update</th>\n",
              "    </tr>\n",
              "  </thead>\n",
              "  <tbody>\n",
              "    <tr>\n",
              "      <th>0</th>\n",
              "      <td>1</td>\n",
              "      <td>PENELOPE</td>\n",
              "      <td>GUINESS</td>\n",
              "      <td>2006-02-15 09:34:33</td>\n",
              "    </tr>\n",
              "    <tr>\n",
              "      <th>1</th>\n",
              "      <td>2</td>\n",
              "      <td>NICK</td>\n",
              "      <td>WAHLBERG</td>\n",
              "      <td>2006-02-15 09:34:33</td>\n",
              "    </tr>\n",
              "    <tr>\n",
              "      <th>2</th>\n",
              "      <td>3</td>\n",
              "      <td>ED</td>\n",
              "      <td>CHASE</td>\n",
              "      <td>2006-02-15 09:34:33</td>\n",
              "    </tr>\n",
              "    <tr>\n",
              "      <th>3</th>\n",
              "      <td>4</td>\n",
              "      <td>JENNIFER</td>\n",
              "      <td>DAVIS</td>\n",
              "      <td>2006-02-15 09:34:33</td>\n",
              "    </tr>\n",
              "    <tr>\n",
              "      <th>4</th>\n",
              "      <td>5</td>\n",
              "      <td>JOHNNY</td>\n",
              "      <td>LOLLOBRIGIDA</td>\n",
              "      <td>2006-02-15 09:34:33</td>\n",
              "    </tr>\n",
              "    <tr>\n",
              "      <th>5</th>\n",
              "      <td>6</td>\n",
              "      <td>BETTE</td>\n",
              "      <td>NICHOLSON</td>\n",
              "      <td>2006-02-15 09:34:33</td>\n",
              "    </tr>\n",
              "    <tr>\n",
              "      <th>6</th>\n",
              "      <td>7</td>\n",
              "      <td>GRACE</td>\n",
              "      <td>MOSTEL</td>\n",
              "      <td>2006-02-15 09:34:33</td>\n",
              "    </tr>\n",
              "    <tr>\n",
              "      <th>7</th>\n",
              "      <td>8</td>\n",
              "      <td>MATTHEW</td>\n",
              "      <td>JOHANSSON</td>\n",
              "      <td>2006-02-15 09:34:33</td>\n",
              "    </tr>\n",
              "    <tr>\n",
              "      <th>8</th>\n",
              "      <td>9</td>\n",
              "      <td>JOE</td>\n",
              "      <td>SWANK</td>\n",
              "      <td>2006-02-15 09:34:33</td>\n",
              "    </tr>\n",
              "    <tr>\n",
              "      <th>9</th>\n",
              "      <td>10</td>\n",
              "      <td>CHRISTIAN</td>\n",
              "      <td>GABLE</td>\n",
              "      <td>2006-02-15 09:34:33</td>\n",
              "    </tr>\n",
              "  </tbody>\n",
              "</table>\n",
              "</div>"
            ],
            "text/plain": [
              "   actor_id first_name     last_name         last_update\n",
              "0         1   PENELOPE       GUINESS 2006-02-15 09:34:33\n",
              "1         2       NICK      WAHLBERG 2006-02-15 09:34:33\n",
              "2         3         ED         CHASE 2006-02-15 09:34:33\n",
              "3         4   JENNIFER         DAVIS 2006-02-15 09:34:33\n",
              "4         5     JOHNNY  LOLLOBRIGIDA 2006-02-15 09:34:33\n",
              "5         6      BETTE     NICHOLSON 2006-02-15 09:34:33\n",
              "6         7      GRACE        MOSTEL 2006-02-15 09:34:33\n",
              "7         8    MATTHEW     JOHANSSON 2006-02-15 09:34:33\n",
              "8         9        JOE         SWANK 2006-02-15 09:34:33\n",
              "9        10  CHRISTIAN         GABLE 2006-02-15 09:34:33"
            ]
          },
          "execution_count": 8,
          "metadata": {},
          "output_type": "execute_result"
        }
      ],
      "source": [
        "actors.head(10)"
      ]
    },
    {
      "cell_type": "markdown",
      "metadata": {
        "id": "Reo9VidyQI5A"
      },
      "source": [
        "Or you can read from a query if you feel like it!"
      ]
    },
    {
      "cell_type": "code",
      "execution_count": null,
      "metadata": {
        "id": "gPz4f3V3QI5A",
        "outputId": "44534f9f-4c05-4d7e-b153-4bf3c2b14112"
      },
      "outputs": [
        {
          "data": {
            "text/html": [
              "<div>\n",
              "<style scoped>\n",
              "    .dataframe tbody tr th:only-of-type {\n",
              "        vertical-align: middle;\n",
              "    }\n",
              "\n",
              "    .dataframe tbody tr th {\n",
              "        vertical-align: top;\n",
              "    }\n",
              "\n",
              "    .dataframe thead th {\n",
              "        text-align: right;\n",
              "    }\n",
              "</style>\n",
              "<table border=\"1\" class=\"dataframe\">\n",
              "  <thead>\n",
              "    <tr style=\"text-align: right;\">\n",
              "      <th></th>\n",
              "      <th>first_name</th>\n",
              "      <th>last_name</th>\n",
              "      <th>last_update</th>\n",
              "    </tr>\n",
              "    <tr>\n",
              "      <th>actor_id</th>\n",
              "      <th></th>\n",
              "      <th></th>\n",
              "      <th></th>\n",
              "    </tr>\n",
              "  </thead>\n",
              "  <tbody>\n",
              "    <tr>\n",
              "      <th>1</th>\n",
              "      <td>PENELOPE</td>\n",
              "      <td>GUINESS</td>\n",
              "      <td>2006-02-15 09:34:33</td>\n",
              "    </tr>\n",
              "    <tr>\n",
              "      <th>2</th>\n",
              "      <td>NICK</td>\n",
              "      <td>WAHLBERG</td>\n",
              "      <td>2006-02-15 09:34:33</td>\n",
              "    </tr>\n",
              "    <tr>\n",
              "      <th>3</th>\n",
              "      <td>ED</td>\n",
              "      <td>CHASE</td>\n",
              "      <td>2006-02-15 09:34:33</td>\n",
              "    </tr>\n",
              "    <tr>\n",
              "      <th>4</th>\n",
              "      <td>JENNIFER</td>\n",
              "      <td>DAVIS</td>\n",
              "      <td>2006-02-15 09:34:33</td>\n",
              "    </tr>\n",
              "    <tr>\n",
              "      <th>5</th>\n",
              "      <td>JOHNNY</td>\n",
              "      <td>LOLLOBRIGIDA</td>\n",
              "      <td>2006-02-15 09:34:33</td>\n",
              "    </tr>\n",
              "    <tr>\n",
              "      <th>6</th>\n",
              "      <td>BETTE</td>\n",
              "      <td>NICHOLSON</td>\n",
              "      <td>2006-02-15 09:34:33</td>\n",
              "    </tr>\n",
              "    <tr>\n",
              "      <th>7</th>\n",
              "      <td>GRACE</td>\n",
              "      <td>MOSTEL</td>\n",
              "      <td>2006-02-15 09:34:33</td>\n",
              "    </tr>\n",
              "    <tr>\n",
              "      <th>8</th>\n",
              "      <td>MATTHEW</td>\n",
              "      <td>JOHANSSON</td>\n",
              "      <td>2006-02-15 09:34:33</td>\n",
              "    </tr>\n",
              "    <tr>\n",
              "      <th>9</th>\n",
              "      <td>JOE</td>\n",
              "      <td>SWANK</td>\n",
              "      <td>2006-02-15 09:34:33</td>\n",
              "    </tr>\n",
              "    <tr>\n",
              "      <th>10</th>\n",
              "      <td>CHRISTIAN</td>\n",
              "      <td>GABLE</td>\n",
              "      <td>2006-02-15 09:34:33</td>\n",
              "    </tr>\n",
              "  </tbody>\n",
              "</table>\n",
              "</div>"
            ],
            "text/plain": [
              "         first_name     last_name         last_update\n",
              "actor_id                                             \n",
              "1          PENELOPE       GUINESS 2006-02-15 09:34:33\n",
              "2              NICK      WAHLBERG 2006-02-15 09:34:33\n",
              "3                ED         CHASE 2006-02-15 09:34:33\n",
              "4          JENNIFER         DAVIS 2006-02-15 09:34:33\n",
              "5            JOHNNY  LOLLOBRIGIDA 2006-02-15 09:34:33\n",
              "6             BETTE     NICHOLSON 2006-02-15 09:34:33\n",
              "7             GRACE        MOSTEL 2006-02-15 09:34:33\n",
              "8           MATTHEW     JOHANSSON 2006-02-15 09:34:33\n",
              "9               JOE         SWANK 2006-02-15 09:34:33\n",
              "10        CHRISTIAN         GABLE 2006-02-15 09:34:33"
            ]
          },
          "execution_count": 9,
          "metadata": {},
          "output_type": "execute_result"
        }
      ],
      "source": [
        "actors = pd.read_sql_query('''SELECT * FROM actor LIMIT 10''', engine).set_index('actor_id')\n",
        "actors"
      ]
    },
    {
      "cell_type": "markdown",
      "metadata": {
        "id": "6pPHDfGCQI5A"
      },
      "source": [
        "You can also use pandas to create tables in your database using the `to_sql` method"
      ]
    },
    {
      "cell_type": "code",
      "execution_count": null,
      "metadata": {
        "id": "zsmCmBojQI5A",
        "outputId": "a91e2c7e-4315-41e9-e635-094fd4ccec55"
      },
      "outputs": [
        {
          "data": {
            "text/html": [
              "<div>\n",
              "<style scoped>\n",
              "    .dataframe tbody tr th:only-of-type {\n",
              "        vertical-align: middle;\n",
              "    }\n",
              "\n",
              "    .dataframe tbody tr th {\n",
              "        vertical-align: top;\n",
              "    }\n",
              "\n",
              "    .dataframe thead th {\n",
              "        text-align: right;\n",
              "    }\n",
              "</style>\n",
              "<table border=\"1\" class=\"dataframe\">\n",
              "  <thead>\n",
              "    <tr style=\"text-align: right;\">\n",
              "      <th></th>\n",
              "      <th>sepal length (cm)</th>\n",
              "      <th>sepal width (cm)</th>\n",
              "      <th>petal length (cm)</th>\n",
              "      <th>petal width (cm)</th>\n",
              "    </tr>\n",
              "  </thead>\n",
              "  <tbody>\n",
              "    <tr>\n",
              "      <th>0</th>\n",
              "      <td>5.1</td>\n",
              "      <td>3.5</td>\n",
              "      <td>1.4</td>\n",
              "      <td>0.2</td>\n",
              "    </tr>\n",
              "    <tr>\n",
              "      <th>1</th>\n",
              "      <td>4.9</td>\n",
              "      <td>3.0</td>\n",
              "      <td>1.4</td>\n",
              "      <td>0.2</td>\n",
              "    </tr>\n",
              "    <tr>\n",
              "      <th>2</th>\n",
              "      <td>4.7</td>\n",
              "      <td>3.2</td>\n",
              "      <td>1.3</td>\n",
              "      <td>0.2</td>\n",
              "    </tr>\n",
              "    <tr>\n",
              "      <th>3</th>\n",
              "      <td>4.6</td>\n",
              "      <td>3.1</td>\n",
              "      <td>1.5</td>\n",
              "      <td>0.2</td>\n",
              "    </tr>\n",
              "    <tr>\n",
              "      <th>4</th>\n",
              "      <td>5.0</td>\n",
              "      <td>3.6</td>\n",
              "      <td>1.4</td>\n",
              "      <td>0.2</td>\n",
              "    </tr>\n",
              "  </tbody>\n",
              "</table>\n",
              "</div>"
            ],
            "text/plain": [
              "   sepal length (cm)  sepal width (cm)  petal length (cm)  petal width (cm)\n",
              "0                5.1               3.5                1.4               0.2\n",
              "1                4.9               3.0                1.4               0.2\n",
              "2                4.7               3.2                1.3               0.2\n",
              "3                4.6               3.1                1.5               0.2\n",
              "4                5.0               3.6                1.4               0.2"
            ]
          },
          "execution_count": 22,
          "metadata": {},
          "output_type": "execute_result"
        }
      ],
      "source": [
        "from sklearn.datasets import load_iris\n",
        "data = load_iris()\n",
        "iris = pd.DataFrame(data['data'], columns=data['feature_names'])\n",
        "iris.head()"
      ]
    },
    {
      "cell_type": "code",
      "execution_count": null,
      "metadata": {
        "id": "jzVJLsUJQI5A"
      },
      "outputs": [],
      "source": [
        "iris.to_sql('iris_dataset', engine, if_exists='replace')"
      ]
    }
  ],
  "metadata": {
    "kernelspec": {
      "display_name": "base",
      "language": "python",
      "name": "python3"
    },
    "language_info": {
      "codemirror_mode": {
        "name": "ipython",
        "version": 3
      },
      "file_extension": ".py",
      "mimetype": "text/x-python",
      "name": "python",
      "nbconvert_exporter": "python",
      "pygments_lexer": "ipython3",
      "version": "3.10.9"
    },
    "vscode": {
      "interpreter": {
        "hash": "a2592652612463181e69ac003232387e3e9a99279aa6b168e76f5df16d5110f4"
      }
    },
    "colab": {
      "provenance": []
    }
  },
  "nbformat": 4,
  "nbformat_minor": 0
}